{
  "nbformat": 4,
  "nbformat_minor": 0,
  "metadata": {
    "colab": {
      "provenance": []
    },
    "kernelspec": {
      "name": "python3",
      "display_name": "Python 3"
    },
    "language_info": {
      "name": "python"
    },
    "gpuClass": "standard",
    "widgets": {
      "application/vnd.jupyter.widget-state+json": {
        "96a01a1f16c440c1b074b6175a7353de": {
          "model_module": "@jupyter-widgets/controls",
          "model_name": "HBoxModel",
          "model_module_version": "1.5.0",
          "state": {
            "_dom_classes": [],
            "_model_module": "@jupyter-widgets/controls",
            "_model_module_version": "1.5.0",
            "_model_name": "HBoxModel",
            "_view_count": null,
            "_view_module": "@jupyter-widgets/controls",
            "_view_module_version": "1.5.0",
            "_view_name": "HBoxView",
            "box_style": "",
            "children": [
              "IPY_MODEL_c49cfe5bf1f44d28a3fcb06222957fef",
              "IPY_MODEL_d25d038c695e4f41a406659d1ef832fd",
              "IPY_MODEL_f970840059e243f798806c3a42724d01"
            ],
            "layout": "IPY_MODEL_79bc44120eb048e9a1f0e8d833c716d3"
          }
        },
        "c49cfe5bf1f44d28a3fcb06222957fef": {
          "model_module": "@jupyter-widgets/controls",
          "model_name": "HTMLModel",
          "model_module_version": "1.5.0",
          "state": {
            "_dom_classes": [],
            "_model_module": "@jupyter-widgets/controls",
            "_model_module_version": "1.5.0",
            "_model_name": "HTMLModel",
            "_view_count": null,
            "_view_module": "@jupyter-widgets/controls",
            "_view_module_version": "1.5.0",
            "_view_name": "HTMLView",
            "description": "",
            "description_tooltip": null,
            "layout": "IPY_MODEL_3836e22807924bbbbd15bc9a18318943",
            "placeholder": "​",
            "style": "IPY_MODEL_ffdb4f1185b942c68677c611b8ce6440",
            "value": "Downloading: 100%"
          }
        },
        "d25d038c695e4f41a406659d1ef832fd": {
          "model_module": "@jupyter-widgets/controls",
          "model_name": "FloatProgressModel",
          "model_module_version": "1.5.0",
          "state": {
            "_dom_classes": [],
            "_model_module": "@jupyter-widgets/controls",
            "_model_module_version": "1.5.0",
            "_model_name": "FloatProgressModel",
            "_view_count": null,
            "_view_module": "@jupyter-widgets/controls",
            "_view_module_version": "1.5.0",
            "_view_name": "ProgressView",
            "bar_style": "success",
            "description": "",
            "description_tooltip": null,
            "layout": "IPY_MODEL_12233849df0a42d09ebf1e2c4bc7941c",
            "max": 231508,
            "min": 0,
            "orientation": "horizontal",
            "style": "IPY_MODEL_063b779d1883497f8bf5593759d56c6d",
            "value": 231508
          }
        },
        "f970840059e243f798806c3a42724d01": {
          "model_module": "@jupyter-widgets/controls",
          "model_name": "HTMLModel",
          "model_module_version": "1.5.0",
          "state": {
            "_dom_classes": [],
            "_model_module": "@jupyter-widgets/controls",
            "_model_module_version": "1.5.0",
            "_model_name": "HTMLModel",
            "_view_count": null,
            "_view_module": "@jupyter-widgets/controls",
            "_view_module_version": "1.5.0",
            "_view_name": "HTMLView",
            "description": "",
            "description_tooltip": null,
            "layout": "IPY_MODEL_ef96689f3d0e41dd9d2267c77f4f557b",
            "placeholder": "​",
            "style": "IPY_MODEL_887dbf45f2d04e0c92e1adf3fac10cf7",
            "value": " 232k/232k [00:00&lt;00:00, 348kB/s]"
          }
        },
        "79bc44120eb048e9a1f0e8d833c716d3": {
          "model_module": "@jupyter-widgets/base",
          "model_name": "LayoutModel",
          "model_module_version": "1.2.0",
          "state": {
            "_model_module": "@jupyter-widgets/base",
            "_model_module_version": "1.2.0",
            "_model_name": "LayoutModel",
            "_view_count": null,
            "_view_module": "@jupyter-widgets/base",
            "_view_module_version": "1.2.0",
            "_view_name": "LayoutView",
            "align_content": null,
            "align_items": null,
            "align_self": null,
            "border": null,
            "bottom": null,
            "display": null,
            "flex": null,
            "flex_flow": null,
            "grid_area": null,
            "grid_auto_columns": null,
            "grid_auto_flow": null,
            "grid_auto_rows": null,
            "grid_column": null,
            "grid_gap": null,
            "grid_row": null,
            "grid_template_areas": null,
            "grid_template_columns": null,
            "grid_template_rows": null,
            "height": null,
            "justify_content": null,
            "justify_items": null,
            "left": null,
            "margin": null,
            "max_height": null,
            "max_width": null,
            "min_height": null,
            "min_width": null,
            "object_fit": null,
            "object_position": null,
            "order": null,
            "overflow": null,
            "overflow_x": null,
            "overflow_y": null,
            "padding": null,
            "right": null,
            "top": null,
            "visibility": null,
            "width": null
          }
        },
        "3836e22807924bbbbd15bc9a18318943": {
          "model_module": "@jupyter-widgets/base",
          "model_name": "LayoutModel",
          "model_module_version": "1.2.0",
          "state": {
            "_model_module": "@jupyter-widgets/base",
            "_model_module_version": "1.2.0",
            "_model_name": "LayoutModel",
            "_view_count": null,
            "_view_module": "@jupyter-widgets/base",
            "_view_module_version": "1.2.0",
            "_view_name": "LayoutView",
            "align_content": null,
            "align_items": null,
            "align_self": null,
            "border": null,
            "bottom": null,
            "display": null,
            "flex": null,
            "flex_flow": null,
            "grid_area": null,
            "grid_auto_columns": null,
            "grid_auto_flow": null,
            "grid_auto_rows": null,
            "grid_column": null,
            "grid_gap": null,
            "grid_row": null,
            "grid_template_areas": null,
            "grid_template_columns": null,
            "grid_template_rows": null,
            "height": null,
            "justify_content": null,
            "justify_items": null,
            "left": null,
            "margin": null,
            "max_height": null,
            "max_width": null,
            "min_height": null,
            "min_width": null,
            "object_fit": null,
            "object_position": null,
            "order": null,
            "overflow": null,
            "overflow_x": null,
            "overflow_y": null,
            "padding": null,
            "right": null,
            "top": null,
            "visibility": null,
            "width": null
          }
        },
        "ffdb4f1185b942c68677c611b8ce6440": {
          "model_module": "@jupyter-widgets/controls",
          "model_name": "DescriptionStyleModel",
          "model_module_version": "1.5.0",
          "state": {
            "_model_module": "@jupyter-widgets/controls",
            "_model_module_version": "1.5.0",
            "_model_name": "DescriptionStyleModel",
            "_view_count": null,
            "_view_module": "@jupyter-widgets/base",
            "_view_module_version": "1.2.0",
            "_view_name": "StyleView",
            "description_width": ""
          }
        },
        "12233849df0a42d09ebf1e2c4bc7941c": {
          "model_module": "@jupyter-widgets/base",
          "model_name": "LayoutModel",
          "model_module_version": "1.2.0",
          "state": {
            "_model_module": "@jupyter-widgets/base",
            "_model_module_version": "1.2.0",
            "_model_name": "LayoutModel",
            "_view_count": null,
            "_view_module": "@jupyter-widgets/base",
            "_view_module_version": "1.2.0",
            "_view_name": "LayoutView",
            "align_content": null,
            "align_items": null,
            "align_self": null,
            "border": null,
            "bottom": null,
            "display": null,
            "flex": null,
            "flex_flow": null,
            "grid_area": null,
            "grid_auto_columns": null,
            "grid_auto_flow": null,
            "grid_auto_rows": null,
            "grid_column": null,
            "grid_gap": null,
            "grid_row": null,
            "grid_template_areas": null,
            "grid_template_columns": null,
            "grid_template_rows": null,
            "height": null,
            "justify_content": null,
            "justify_items": null,
            "left": null,
            "margin": null,
            "max_height": null,
            "max_width": null,
            "min_height": null,
            "min_width": null,
            "object_fit": null,
            "object_position": null,
            "order": null,
            "overflow": null,
            "overflow_x": null,
            "overflow_y": null,
            "padding": null,
            "right": null,
            "top": null,
            "visibility": null,
            "width": null
          }
        },
        "063b779d1883497f8bf5593759d56c6d": {
          "model_module": "@jupyter-widgets/controls",
          "model_name": "ProgressStyleModel",
          "model_module_version": "1.5.0",
          "state": {
            "_model_module": "@jupyter-widgets/controls",
            "_model_module_version": "1.5.0",
            "_model_name": "ProgressStyleModel",
            "_view_count": null,
            "_view_module": "@jupyter-widgets/base",
            "_view_module_version": "1.2.0",
            "_view_name": "StyleView",
            "bar_color": null,
            "description_width": ""
          }
        },
        "ef96689f3d0e41dd9d2267c77f4f557b": {
          "model_module": "@jupyter-widgets/base",
          "model_name": "LayoutModel",
          "model_module_version": "1.2.0",
          "state": {
            "_model_module": "@jupyter-widgets/base",
            "_model_module_version": "1.2.0",
            "_model_name": "LayoutModel",
            "_view_count": null,
            "_view_module": "@jupyter-widgets/base",
            "_view_module_version": "1.2.0",
            "_view_name": "LayoutView",
            "align_content": null,
            "align_items": null,
            "align_self": null,
            "border": null,
            "bottom": null,
            "display": null,
            "flex": null,
            "flex_flow": null,
            "grid_area": null,
            "grid_auto_columns": null,
            "grid_auto_flow": null,
            "grid_auto_rows": null,
            "grid_column": null,
            "grid_gap": null,
            "grid_row": null,
            "grid_template_areas": null,
            "grid_template_columns": null,
            "grid_template_rows": null,
            "height": null,
            "justify_content": null,
            "justify_items": null,
            "left": null,
            "margin": null,
            "max_height": null,
            "max_width": null,
            "min_height": null,
            "min_width": null,
            "object_fit": null,
            "object_position": null,
            "order": null,
            "overflow": null,
            "overflow_x": null,
            "overflow_y": null,
            "padding": null,
            "right": null,
            "top": null,
            "visibility": null,
            "width": null
          }
        },
        "887dbf45f2d04e0c92e1adf3fac10cf7": {
          "model_module": "@jupyter-widgets/controls",
          "model_name": "DescriptionStyleModel",
          "model_module_version": "1.5.0",
          "state": {
            "_model_module": "@jupyter-widgets/controls",
            "_model_module_version": "1.5.0",
            "_model_name": "DescriptionStyleModel",
            "_view_count": null,
            "_view_module": "@jupyter-widgets/base",
            "_view_module_version": "1.2.0",
            "_view_name": "StyleView",
            "description_width": ""
          }
        },
        "e5b9559883564c38acac051296fa26fd": {
          "model_module": "@jupyter-widgets/controls",
          "model_name": "HBoxModel",
          "model_module_version": "1.5.0",
          "state": {
            "_dom_classes": [],
            "_model_module": "@jupyter-widgets/controls",
            "_model_module_version": "1.5.0",
            "_model_name": "HBoxModel",
            "_view_count": null,
            "_view_module": "@jupyter-widgets/controls",
            "_view_module_version": "1.5.0",
            "_view_name": "HBoxView",
            "box_style": "",
            "children": [
              "IPY_MODEL_8cec056f0e984926ad955f0960af302a",
              "IPY_MODEL_d1938502edab4f298883acb12837aa8d",
              "IPY_MODEL_d3d8cbe702b64706977505c11a0f0c75"
            ],
            "layout": "IPY_MODEL_6c2717c23cad4c2aa4d7ef18d899dcbd"
          }
        },
        "8cec056f0e984926ad955f0960af302a": {
          "model_module": "@jupyter-widgets/controls",
          "model_name": "HTMLModel",
          "model_module_version": "1.5.0",
          "state": {
            "_dom_classes": [],
            "_model_module": "@jupyter-widgets/controls",
            "_model_module_version": "1.5.0",
            "_model_name": "HTMLModel",
            "_view_count": null,
            "_view_module": "@jupyter-widgets/controls",
            "_view_module_version": "1.5.0",
            "_view_name": "HTMLView",
            "description": "",
            "description_tooltip": null,
            "layout": "IPY_MODEL_6d14a9b4697949ec950c483d504b3c02",
            "placeholder": "​",
            "style": "IPY_MODEL_5abba538e9c548efb6856d92fab908af",
            "value": "Downloading: 100%"
          }
        },
        "d1938502edab4f298883acb12837aa8d": {
          "model_module": "@jupyter-widgets/controls",
          "model_name": "FloatProgressModel",
          "model_module_version": "1.5.0",
          "state": {
            "_dom_classes": [],
            "_model_module": "@jupyter-widgets/controls",
            "_model_module_version": "1.5.0",
            "_model_name": "FloatProgressModel",
            "_view_count": null,
            "_view_module": "@jupyter-widgets/controls",
            "_view_module_version": "1.5.0",
            "_view_name": "ProgressView",
            "bar_style": "success",
            "description": "",
            "description_tooltip": null,
            "layout": "IPY_MODEL_3ebc5dceeb6b425b97b94887ad1bfbf6",
            "max": 28,
            "min": 0,
            "orientation": "horizontal",
            "style": "IPY_MODEL_05b71da4fddf4f9e8e407811908b26ed",
            "value": 28
          }
        },
        "d3d8cbe702b64706977505c11a0f0c75": {
          "model_module": "@jupyter-widgets/controls",
          "model_name": "HTMLModel",
          "model_module_version": "1.5.0",
          "state": {
            "_dom_classes": [],
            "_model_module": "@jupyter-widgets/controls",
            "_model_module_version": "1.5.0",
            "_model_name": "HTMLModel",
            "_view_count": null,
            "_view_module": "@jupyter-widgets/controls",
            "_view_module_version": "1.5.0",
            "_view_name": "HTMLView",
            "description": "",
            "description_tooltip": null,
            "layout": "IPY_MODEL_a4ba0063634d41eaa268d2f74d7844f0",
            "placeholder": "​",
            "style": "IPY_MODEL_2b3c1134ebf340e891f481c2b65b2644",
            "value": " 28.0/28.0 [00:00&lt;00:00, 850B/s]"
          }
        },
        "6c2717c23cad4c2aa4d7ef18d899dcbd": {
          "model_module": "@jupyter-widgets/base",
          "model_name": "LayoutModel",
          "model_module_version": "1.2.0",
          "state": {
            "_model_module": "@jupyter-widgets/base",
            "_model_module_version": "1.2.0",
            "_model_name": "LayoutModel",
            "_view_count": null,
            "_view_module": "@jupyter-widgets/base",
            "_view_module_version": "1.2.0",
            "_view_name": "LayoutView",
            "align_content": null,
            "align_items": null,
            "align_self": null,
            "border": null,
            "bottom": null,
            "display": null,
            "flex": null,
            "flex_flow": null,
            "grid_area": null,
            "grid_auto_columns": null,
            "grid_auto_flow": null,
            "grid_auto_rows": null,
            "grid_column": null,
            "grid_gap": null,
            "grid_row": null,
            "grid_template_areas": null,
            "grid_template_columns": null,
            "grid_template_rows": null,
            "height": null,
            "justify_content": null,
            "justify_items": null,
            "left": null,
            "margin": null,
            "max_height": null,
            "max_width": null,
            "min_height": null,
            "min_width": null,
            "object_fit": null,
            "object_position": null,
            "order": null,
            "overflow": null,
            "overflow_x": null,
            "overflow_y": null,
            "padding": null,
            "right": null,
            "top": null,
            "visibility": null,
            "width": null
          }
        },
        "6d14a9b4697949ec950c483d504b3c02": {
          "model_module": "@jupyter-widgets/base",
          "model_name": "LayoutModel",
          "model_module_version": "1.2.0",
          "state": {
            "_model_module": "@jupyter-widgets/base",
            "_model_module_version": "1.2.0",
            "_model_name": "LayoutModel",
            "_view_count": null,
            "_view_module": "@jupyter-widgets/base",
            "_view_module_version": "1.2.0",
            "_view_name": "LayoutView",
            "align_content": null,
            "align_items": null,
            "align_self": null,
            "border": null,
            "bottom": null,
            "display": null,
            "flex": null,
            "flex_flow": null,
            "grid_area": null,
            "grid_auto_columns": null,
            "grid_auto_flow": null,
            "grid_auto_rows": null,
            "grid_column": null,
            "grid_gap": null,
            "grid_row": null,
            "grid_template_areas": null,
            "grid_template_columns": null,
            "grid_template_rows": null,
            "height": null,
            "justify_content": null,
            "justify_items": null,
            "left": null,
            "margin": null,
            "max_height": null,
            "max_width": null,
            "min_height": null,
            "min_width": null,
            "object_fit": null,
            "object_position": null,
            "order": null,
            "overflow": null,
            "overflow_x": null,
            "overflow_y": null,
            "padding": null,
            "right": null,
            "top": null,
            "visibility": null,
            "width": null
          }
        },
        "5abba538e9c548efb6856d92fab908af": {
          "model_module": "@jupyter-widgets/controls",
          "model_name": "DescriptionStyleModel",
          "model_module_version": "1.5.0",
          "state": {
            "_model_module": "@jupyter-widgets/controls",
            "_model_module_version": "1.5.0",
            "_model_name": "DescriptionStyleModel",
            "_view_count": null,
            "_view_module": "@jupyter-widgets/base",
            "_view_module_version": "1.2.0",
            "_view_name": "StyleView",
            "description_width": ""
          }
        },
        "3ebc5dceeb6b425b97b94887ad1bfbf6": {
          "model_module": "@jupyter-widgets/base",
          "model_name": "LayoutModel",
          "model_module_version": "1.2.0",
          "state": {
            "_model_module": "@jupyter-widgets/base",
            "_model_module_version": "1.2.0",
            "_model_name": "LayoutModel",
            "_view_count": null,
            "_view_module": "@jupyter-widgets/base",
            "_view_module_version": "1.2.0",
            "_view_name": "LayoutView",
            "align_content": null,
            "align_items": null,
            "align_self": null,
            "border": null,
            "bottom": null,
            "display": null,
            "flex": null,
            "flex_flow": null,
            "grid_area": null,
            "grid_auto_columns": null,
            "grid_auto_flow": null,
            "grid_auto_rows": null,
            "grid_column": null,
            "grid_gap": null,
            "grid_row": null,
            "grid_template_areas": null,
            "grid_template_columns": null,
            "grid_template_rows": null,
            "height": null,
            "justify_content": null,
            "justify_items": null,
            "left": null,
            "margin": null,
            "max_height": null,
            "max_width": null,
            "min_height": null,
            "min_width": null,
            "object_fit": null,
            "object_position": null,
            "order": null,
            "overflow": null,
            "overflow_x": null,
            "overflow_y": null,
            "padding": null,
            "right": null,
            "top": null,
            "visibility": null,
            "width": null
          }
        },
        "05b71da4fddf4f9e8e407811908b26ed": {
          "model_module": "@jupyter-widgets/controls",
          "model_name": "ProgressStyleModel",
          "model_module_version": "1.5.0",
          "state": {
            "_model_module": "@jupyter-widgets/controls",
            "_model_module_version": "1.5.0",
            "_model_name": "ProgressStyleModel",
            "_view_count": null,
            "_view_module": "@jupyter-widgets/base",
            "_view_module_version": "1.2.0",
            "_view_name": "StyleView",
            "bar_color": null,
            "description_width": ""
          }
        },
        "a4ba0063634d41eaa268d2f74d7844f0": {
          "model_module": "@jupyter-widgets/base",
          "model_name": "LayoutModel",
          "model_module_version": "1.2.0",
          "state": {
            "_model_module": "@jupyter-widgets/base",
            "_model_module_version": "1.2.0",
            "_model_name": "LayoutModel",
            "_view_count": null,
            "_view_module": "@jupyter-widgets/base",
            "_view_module_version": "1.2.0",
            "_view_name": "LayoutView",
            "align_content": null,
            "align_items": null,
            "align_self": null,
            "border": null,
            "bottom": null,
            "display": null,
            "flex": null,
            "flex_flow": null,
            "grid_area": null,
            "grid_auto_columns": null,
            "grid_auto_flow": null,
            "grid_auto_rows": null,
            "grid_column": null,
            "grid_gap": null,
            "grid_row": null,
            "grid_template_areas": null,
            "grid_template_columns": null,
            "grid_template_rows": null,
            "height": null,
            "justify_content": null,
            "justify_items": null,
            "left": null,
            "margin": null,
            "max_height": null,
            "max_width": null,
            "min_height": null,
            "min_width": null,
            "object_fit": null,
            "object_position": null,
            "order": null,
            "overflow": null,
            "overflow_x": null,
            "overflow_y": null,
            "padding": null,
            "right": null,
            "top": null,
            "visibility": null,
            "width": null
          }
        },
        "2b3c1134ebf340e891f481c2b65b2644": {
          "model_module": "@jupyter-widgets/controls",
          "model_name": "DescriptionStyleModel",
          "model_module_version": "1.5.0",
          "state": {
            "_model_module": "@jupyter-widgets/controls",
            "_model_module_version": "1.5.0",
            "_model_name": "DescriptionStyleModel",
            "_view_count": null,
            "_view_module": "@jupyter-widgets/base",
            "_view_module_version": "1.2.0",
            "_view_name": "StyleView",
            "description_width": ""
          }
        },
        "440a1754e9534872b3e8e254c26bbe0b": {
          "model_module": "@jupyter-widgets/controls",
          "model_name": "HBoxModel",
          "model_module_version": "1.5.0",
          "state": {
            "_dom_classes": [],
            "_model_module": "@jupyter-widgets/controls",
            "_model_module_version": "1.5.0",
            "_model_name": "HBoxModel",
            "_view_count": null,
            "_view_module": "@jupyter-widgets/controls",
            "_view_module_version": "1.5.0",
            "_view_name": "HBoxView",
            "box_style": "",
            "children": [
              "IPY_MODEL_a01c3b2abae24870a42e558fbaf5eee7",
              "IPY_MODEL_e87e631758e5470aa3925c0b225e2607",
              "IPY_MODEL_807e95650cd149a49813f9f442fa4a9d"
            ],
            "layout": "IPY_MODEL_d7761ce5e3cb4f3cb12b84a2ecc1f8ea"
          }
        },
        "a01c3b2abae24870a42e558fbaf5eee7": {
          "model_module": "@jupyter-widgets/controls",
          "model_name": "HTMLModel",
          "model_module_version": "1.5.0",
          "state": {
            "_dom_classes": [],
            "_model_module": "@jupyter-widgets/controls",
            "_model_module_version": "1.5.0",
            "_model_name": "HTMLModel",
            "_view_count": null,
            "_view_module": "@jupyter-widgets/controls",
            "_view_module_version": "1.5.0",
            "_view_name": "HTMLView",
            "description": "",
            "description_tooltip": null,
            "layout": "IPY_MODEL_c8119ecbdce640e091869ff4cd34551c",
            "placeholder": "​",
            "style": "IPY_MODEL_89cb673069ae442aac70caaed8bdbd5a",
            "value": "Downloading: 100%"
          }
        },
        "e87e631758e5470aa3925c0b225e2607": {
          "model_module": "@jupyter-widgets/controls",
          "model_name": "FloatProgressModel",
          "model_module_version": "1.5.0",
          "state": {
            "_dom_classes": [],
            "_model_module": "@jupyter-widgets/controls",
            "_model_module_version": "1.5.0",
            "_model_name": "FloatProgressModel",
            "_view_count": null,
            "_view_module": "@jupyter-widgets/controls",
            "_view_module_version": "1.5.0",
            "_view_name": "ProgressView",
            "bar_style": "success",
            "description": "",
            "description_tooltip": null,
            "layout": "IPY_MODEL_7ee52fbfa566479c94424a46bf37bec7",
            "max": 570,
            "min": 0,
            "orientation": "horizontal",
            "style": "IPY_MODEL_57378f1a4a7b4b9092a4f177c05f6f60",
            "value": 570
          }
        },
        "807e95650cd149a49813f9f442fa4a9d": {
          "model_module": "@jupyter-widgets/controls",
          "model_name": "HTMLModel",
          "model_module_version": "1.5.0",
          "state": {
            "_dom_classes": [],
            "_model_module": "@jupyter-widgets/controls",
            "_model_module_version": "1.5.0",
            "_model_name": "HTMLModel",
            "_view_count": null,
            "_view_module": "@jupyter-widgets/controls",
            "_view_module_version": "1.5.0",
            "_view_name": "HTMLView",
            "description": "",
            "description_tooltip": null,
            "layout": "IPY_MODEL_61dec53e4d6547ffb36627286327a7c0",
            "placeholder": "​",
            "style": "IPY_MODEL_5a7b5a92bb6b4d6e9c99f3082b83ca09",
            "value": " 570/570 [00:00&lt;00:00, 15.9kB/s]"
          }
        },
        "d7761ce5e3cb4f3cb12b84a2ecc1f8ea": {
          "model_module": "@jupyter-widgets/base",
          "model_name": "LayoutModel",
          "model_module_version": "1.2.0",
          "state": {
            "_model_module": "@jupyter-widgets/base",
            "_model_module_version": "1.2.0",
            "_model_name": "LayoutModel",
            "_view_count": null,
            "_view_module": "@jupyter-widgets/base",
            "_view_module_version": "1.2.0",
            "_view_name": "LayoutView",
            "align_content": null,
            "align_items": null,
            "align_self": null,
            "border": null,
            "bottom": null,
            "display": null,
            "flex": null,
            "flex_flow": null,
            "grid_area": null,
            "grid_auto_columns": null,
            "grid_auto_flow": null,
            "grid_auto_rows": null,
            "grid_column": null,
            "grid_gap": null,
            "grid_row": null,
            "grid_template_areas": null,
            "grid_template_columns": null,
            "grid_template_rows": null,
            "height": null,
            "justify_content": null,
            "justify_items": null,
            "left": null,
            "margin": null,
            "max_height": null,
            "max_width": null,
            "min_height": null,
            "min_width": null,
            "object_fit": null,
            "object_position": null,
            "order": null,
            "overflow": null,
            "overflow_x": null,
            "overflow_y": null,
            "padding": null,
            "right": null,
            "top": null,
            "visibility": null,
            "width": null
          }
        },
        "c8119ecbdce640e091869ff4cd34551c": {
          "model_module": "@jupyter-widgets/base",
          "model_name": "LayoutModel",
          "model_module_version": "1.2.0",
          "state": {
            "_model_module": "@jupyter-widgets/base",
            "_model_module_version": "1.2.0",
            "_model_name": "LayoutModel",
            "_view_count": null,
            "_view_module": "@jupyter-widgets/base",
            "_view_module_version": "1.2.0",
            "_view_name": "LayoutView",
            "align_content": null,
            "align_items": null,
            "align_self": null,
            "border": null,
            "bottom": null,
            "display": null,
            "flex": null,
            "flex_flow": null,
            "grid_area": null,
            "grid_auto_columns": null,
            "grid_auto_flow": null,
            "grid_auto_rows": null,
            "grid_column": null,
            "grid_gap": null,
            "grid_row": null,
            "grid_template_areas": null,
            "grid_template_columns": null,
            "grid_template_rows": null,
            "height": null,
            "justify_content": null,
            "justify_items": null,
            "left": null,
            "margin": null,
            "max_height": null,
            "max_width": null,
            "min_height": null,
            "min_width": null,
            "object_fit": null,
            "object_position": null,
            "order": null,
            "overflow": null,
            "overflow_x": null,
            "overflow_y": null,
            "padding": null,
            "right": null,
            "top": null,
            "visibility": null,
            "width": null
          }
        },
        "89cb673069ae442aac70caaed8bdbd5a": {
          "model_module": "@jupyter-widgets/controls",
          "model_name": "DescriptionStyleModel",
          "model_module_version": "1.5.0",
          "state": {
            "_model_module": "@jupyter-widgets/controls",
            "_model_module_version": "1.5.0",
            "_model_name": "DescriptionStyleModel",
            "_view_count": null,
            "_view_module": "@jupyter-widgets/base",
            "_view_module_version": "1.2.0",
            "_view_name": "StyleView",
            "description_width": ""
          }
        },
        "7ee52fbfa566479c94424a46bf37bec7": {
          "model_module": "@jupyter-widgets/base",
          "model_name": "LayoutModel",
          "model_module_version": "1.2.0",
          "state": {
            "_model_module": "@jupyter-widgets/base",
            "_model_module_version": "1.2.0",
            "_model_name": "LayoutModel",
            "_view_count": null,
            "_view_module": "@jupyter-widgets/base",
            "_view_module_version": "1.2.0",
            "_view_name": "LayoutView",
            "align_content": null,
            "align_items": null,
            "align_self": null,
            "border": null,
            "bottom": null,
            "display": null,
            "flex": null,
            "flex_flow": null,
            "grid_area": null,
            "grid_auto_columns": null,
            "grid_auto_flow": null,
            "grid_auto_rows": null,
            "grid_column": null,
            "grid_gap": null,
            "grid_row": null,
            "grid_template_areas": null,
            "grid_template_columns": null,
            "grid_template_rows": null,
            "height": null,
            "justify_content": null,
            "justify_items": null,
            "left": null,
            "margin": null,
            "max_height": null,
            "max_width": null,
            "min_height": null,
            "min_width": null,
            "object_fit": null,
            "object_position": null,
            "order": null,
            "overflow": null,
            "overflow_x": null,
            "overflow_y": null,
            "padding": null,
            "right": null,
            "top": null,
            "visibility": null,
            "width": null
          }
        },
        "57378f1a4a7b4b9092a4f177c05f6f60": {
          "model_module": "@jupyter-widgets/controls",
          "model_name": "ProgressStyleModel",
          "model_module_version": "1.5.0",
          "state": {
            "_model_module": "@jupyter-widgets/controls",
            "_model_module_version": "1.5.0",
            "_model_name": "ProgressStyleModel",
            "_view_count": null,
            "_view_module": "@jupyter-widgets/base",
            "_view_module_version": "1.2.0",
            "_view_name": "StyleView",
            "bar_color": null,
            "description_width": ""
          }
        },
        "61dec53e4d6547ffb36627286327a7c0": {
          "model_module": "@jupyter-widgets/base",
          "model_name": "LayoutModel",
          "model_module_version": "1.2.0",
          "state": {
            "_model_module": "@jupyter-widgets/base",
            "_model_module_version": "1.2.0",
            "_model_name": "LayoutModel",
            "_view_count": null,
            "_view_module": "@jupyter-widgets/base",
            "_view_module_version": "1.2.0",
            "_view_name": "LayoutView",
            "align_content": null,
            "align_items": null,
            "align_self": null,
            "border": null,
            "bottom": null,
            "display": null,
            "flex": null,
            "flex_flow": null,
            "grid_area": null,
            "grid_auto_columns": null,
            "grid_auto_flow": null,
            "grid_auto_rows": null,
            "grid_column": null,
            "grid_gap": null,
            "grid_row": null,
            "grid_template_areas": null,
            "grid_template_columns": null,
            "grid_template_rows": null,
            "height": null,
            "justify_content": null,
            "justify_items": null,
            "left": null,
            "margin": null,
            "max_height": null,
            "max_width": null,
            "min_height": null,
            "min_width": null,
            "object_fit": null,
            "object_position": null,
            "order": null,
            "overflow": null,
            "overflow_x": null,
            "overflow_y": null,
            "padding": null,
            "right": null,
            "top": null,
            "visibility": null,
            "width": null
          }
        },
        "5a7b5a92bb6b4d6e9c99f3082b83ca09": {
          "model_module": "@jupyter-widgets/controls",
          "model_name": "DescriptionStyleModel",
          "model_module_version": "1.5.0",
          "state": {
            "_model_module": "@jupyter-widgets/controls",
            "_model_module_version": "1.5.0",
            "_model_name": "DescriptionStyleModel",
            "_view_count": null,
            "_view_module": "@jupyter-widgets/base",
            "_view_module_version": "1.2.0",
            "_view_name": "StyleView",
            "description_width": ""
          }
        },
        "49131379d2e34760b3ddfefec28b9b14": {
          "model_module": "@jupyter-widgets/controls",
          "model_name": "HBoxModel",
          "model_module_version": "1.5.0",
          "state": {
            "_dom_classes": [],
            "_model_module": "@jupyter-widgets/controls",
            "_model_module_version": "1.5.0",
            "_model_name": "HBoxModel",
            "_view_count": null,
            "_view_module": "@jupyter-widgets/controls",
            "_view_module_version": "1.5.0",
            "_view_name": "HBoxView",
            "box_style": "",
            "children": [
              "IPY_MODEL_bcff87d9607144fb895cf4504e650f3f",
              "IPY_MODEL_48159e9e30db44d0b6b4e7e66bd97a8b",
              "IPY_MODEL_3c17fb4721e341628c6c4062d4e8210e"
            ],
            "layout": "IPY_MODEL_450dda987a71400da867b5cb28187290"
          }
        },
        "bcff87d9607144fb895cf4504e650f3f": {
          "model_module": "@jupyter-widgets/controls",
          "model_name": "HTMLModel",
          "model_module_version": "1.5.0",
          "state": {
            "_dom_classes": [],
            "_model_module": "@jupyter-widgets/controls",
            "_model_module_version": "1.5.0",
            "_model_name": "HTMLModel",
            "_view_count": null,
            "_view_module": "@jupyter-widgets/controls",
            "_view_module_version": "1.5.0",
            "_view_name": "HTMLView",
            "description": "",
            "description_tooltip": null,
            "layout": "IPY_MODEL_4fefc13c216247e3b1c60fa35688b055",
            "placeholder": "​",
            "style": "IPY_MODEL_0179ac7510564bc589040353abfd3e27",
            "value": "Downloading: 100%"
          }
        },
        "48159e9e30db44d0b6b4e7e66bd97a8b": {
          "model_module": "@jupyter-widgets/controls",
          "model_name": "FloatProgressModel",
          "model_module_version": "1.5.0",
          "state": {
            "_dom_classes": [],
            "_model_module": "@jupyter-widgets/controls",
            "_model_module_version": "1.5.0",
            "_model_name": "FloatProgressModel",
            "_view_count": null,
            "_view_module": "@jupyter-widgets/controls",
            "_view_module_version": "1.5.0",
            "_view_name": "ProgressView",
            "bar_style": "success",
            "description": "",
            "description_tooltip": null,
            "layout": "IPY_MODEL_86ec388d13d54a1793366a34f76359bf",
            "max": 440473133,
            "min": 0,
            "orientation": "horizontal",
            "style": "IPY_MODEL_5fe4ec15a09d47b8ad6ef06853c9e4dc",
            "value": 440473133
          }
        },
        "3c17fb4721e341628c6c4062d4e8210e": {
          "model_module": "@jupyter-widgets/controls",
          "model_name": "HTMLModel",
          "model_module_version": "1.5.0",
          "state": {
            "_dom_classes": [],
            "_model_module": "@jupyter-widgets/controls",
            "_model_module_version": "1.5.0",
            "_model_name": "HTMLModel",
            "_view_count": null,
            "_view_module": "@jupyter-widgets/controls",
            "_view_module_version": "1.5.0",
            "_view_name": "HTMLView",
            "description": "",
            "description_tooltip": null,
            "layout": "IPY_MODEL_cd19071187114f85999cb81337fdcb94",
            "placeholder": "​",
            "style": "IPY_MODEL_42643ff72d3047d7afd61a63f1234a06",
            "value": " 440M/440M [00:08&lt;00:00, 54.9MB/s]"
          }
        },
        "450dda987a71400da867b5cb28187290": {
          "model_module": "@jupyter-widgets/base",
          "model_name": "LayoutModel",
          "model_module_version": "1.2.0",
          "state": {
            "_model_module": "@jupyter-widgets/base",
            "_model_module_version": "1.2.0",
            "_model_name": "LayoutModel",
            "_view_count": null,
            "_view_module": "@jupyter-widgets/base",
            "_view_module_version": "1.2.0",
            "_view_name": "LayoutView",
            "align_content": null,
            "align_items": null,
            "align_self": null,
            "border": null,
            "bottom": null,
            "display": null,
            "flex": null,
            "flex_flow": null,
            "grid_area": null,
            "grid_auto_columns": null,
            "grid_auto_flow": null,
            "grid_auto_rows": null,
            "grid_column": null,
            "grid_gap": null,
            "grid_row": null,
            "grid_template_areas": null,
            "grid_template_columns": null,
            "grid_template_rows": null,
            "height": null,
            "justify_content": null,
            "justify_items": null,
            "left": null,
            "margin": null,
            "max_height": null,
            "max_width": null,
            "min_height": null,
            "min_width": null,
            "object_fit": null,
            "object_position": null,
            "order": null,
            "overflow": null,
            "overflow_x": null,
            "overflow_y": null,
            "padding": null,
            "right": null,
            "top": null,
            "visibility": null,
            "width": null
          }
        },
        "4fefc13c216247e3b1c60fa35688b055": {
          "model_module": "@jupyter-widgets/base",
          "model_name": "LayoutModel",
          "model_module_version": "1.2.0",
          "state": {
            "_model_module": "@jupyter-widgets/base",
            "_model_module_version": "1.2.0",
            "_model_name": "LayoutModel",
            "_view_count": null,
            "_view_module": "@jupyter-widgets/base",
            "_view_module_version": "1.2.0",
            "_view_name": "LayoutView",
            "align_content": null,
            "align_items": null,
            "align_self": null,
            "border": null,
            "bottom": null,
            "display": null,
            "flex": null,
            "flex_flow": null,
            "grid_area": null,
            "grid_auto_columns": null,
            "grid_auto_flow": null,
            "grid_auto_rows": null,
            "grid_column": null,
            "grid_gap": null,
            "grid_row": null,
            "grid_template_areas": null,
            "grid_template_columns": null,
            "grid_template_rows": null,
            "height": null,
            "justify_content": null,
            "justify_items": null,
            "left": null,
            "margin": null,
            "max_height": null,
            "max_width": null,
            "min_height": null,
            "min_width": null,
            "object_fit": null,
            "object_position": null,
            "order": null,
            "overflow": null,
            "overflow_x": null,
            "overflow_y": null,
            "padding": null,
            "right": null,
            "top": null,
            "visibility": null,
            "width": null
          }
        },
        "0179ac7510564bc589040353abfd3e27": {
          "model_module": "@jupyter-widgets/controls",
          "model_name": "DescriptionStyleModel",
          "model_module_version": "1.5.0",
          "state": {
            "_model_module": "@jupyter-widgets/controls",
            "_model_module_version": "1.5.0",
            "_model_name": "DescriptionStyleModel",
            "_view_count": null,
            "_view_module": "@jupyter-widgets/base",
            "_view_module_version": "1.2.0",
            "_view_name": "StyleView",
            "description_width": ""
          }
        },
        "86ec388d13d54a1793366a34f76359bf": {
          "model_module": "@jupyter-widgets/base",
          "model_name": "LayoutModel",
          "model_module_version": "1.2.0",
          "state": {
            "_model_module": "@jupyter-widgets/base",
            "_model_module_version": "1.2.0",
            "_model_name": "LayoutModel",
            "_view_count": null,
            "_view_module": "@jupyter-widgets/base",
            "_view_module_version": "1.2.0",
            "_view_name": "LayoutView",
            "align_content": null,
            "align_items": null,
            "align_self": null,
            "border": null,
            "bottom": null,
            "display": null,
            "flex": null,
            "flex_flow": null,
            "grid_area": null,
            "grid_auto_columns": null,
            "grid_auto_flow": null,
            "grid_auto_rows": null,
            "grid_column": null,
            "grid_gap": null,
            "grid_row": null,
            "grid_template_areas": null,
            "grid_template_columns": null,
            "grid_template_rows": null,
            "height": null,
            "justify_content": null,
            "justify_items": null,
            "left": null,
            "margin": null,
            "max_height": null,
            "max_width": null,
            "min_height": null,
            "min_width": null,
            "object_fit": null,
            "object_position": null,
            "order": null,
            "overflow": null,
            "overflow_x": null,
            "overflow_y": null,
            "padding": null,
            "right": null,
            "top": null,
            "visibility": null,
            "width": null
          }
        },
        "5fe4ec15a09d47b8ad6ef06853c9e4dc": {
          "model_module": "@jupyter-widgets/controls",
          "model_name": "ProgressStyleModel",
          "model_module_version": "1.5.0",
          "state": {
            "_model_module": "@jupyter-widgets/controls",
            "_model_module_version": "1.5.0",
            "_model_name": "ProgressStyleModel",
            "_view_count": null,
            "_view_module": "@jupyter-widgets/base",
            "_view_module_version": "1.2.0",
            "_view_name": "StyleView",
            "bar_color": null,
            "description_width": ""
          }
        },
        "cd19071187114f85999cb81337fdcb94": {
          "model_module": "@jupyter-widgets/base",
          "model_name": "LayoutModel",
          "model_module_version": "1.2.0",
          "state": {
            "_model_module": "@jupyter-widgets/base",
            "_model_module_version": "1.2.0",
            "_model_name": "LayoutModel",
            "_view_count": null,
            "_view_module": "@jupyter-widgets/base",
            "_view_module_version": "1.2.0",
            "_view_name": "LayoutView",
            "align_content": null,
            "align_items": null,
            "align_self": null,
            "border": null,
            "bottom": null,
            "display": null,
            "flex": null,
            "flex_flow": null,
            "grid_area": null,
            "grid_auto_columns": null,
            "grid_auto_flow": null,
            "grid_auto_rows": null,
            "grid_column": null,
            "grid_gap": null,
            "grid_row": null,
            "grid_template_areas": null,
            "grid_template_columns": null,
            "grid_template_rows": null,
            "height": null,
            "justify_content": null,
            "justify_items": null,
            "left": null,
            "margin": null,
            "max_height": null,
            "max_width": null,
            "min_height": null,
            "min_width": null,
            "object_fit": null,
            "object_position": null,
            "order": null,
            "overflow": null,
            "overflow_x": null,
            "overflow_y": null,
            "padding": null,
            "right": null,
            "top": null,
            "visibility": null,
            "width": null
          }
        },
        "42643ff72d3047d7afd61a63f1234a06": {
          "model_module": "@jupyter-widgets/controls",
          "model_name": "DescriptionStyleModel",
          "model_module_version": "1.5.0",
          "state": {
            "_model_module": "@jupyter-widgets/controls",
            "_model_module_version": "1.5.0",
            "_model_name": "DescriptionStyleModel",
            "_view_count": null,
            "_view_module": "@jupyter-widgets/base",
            "_view_module_version": "1.2.0",
            "_view_name": "StyleView",
            "description_width": ""
          }
        },
        "17974aa739e9477388fea30304b232b9": {
          "model_module": "@jupyter-widgets/controls",
          "model_name": "HBoxModel",
          "model_module_version": "1.5.0",
          "state": {
            "_dom_classes": [],
            "_model_module": "@jupyter-widgets/controls",
            "_model_module_version": "1.5.0",
            "_model_name": "HBoxModel",
            "_view_count": null,
            "_view_module": "@jupyter-widgets/controls",
            "_view_module_version": "1.5.0",
            "_view_name": "HBoxView",
            "box_style": "",
            "children": [
              "IPY_MODEL_6ea830887ec74a3697757df9e5332cb9",
              "IPY_MODEL_543e65fd25b9467f88718e5a126b324d",
              "IPY_MODEL_ee33d45f8f314fb5b9f8280e8d1910af"
            ],
            "layout": "IPY_MODEL_76d59cf07d1444bc8c824326b5cadf91"
          }
        },
        "6ea830887ec74a3697757df9e5332cb9": {
          "model_module": "@jupyter-widgets/controls",
          "model_name": "HTMLModel",
          "model_module_version": "1.5.0",
          "state": {
            "_dom_classes": [],
            "_model_module": "@jupyter-widgets/controls",
            "_model_module_version": "1.5.0",
            "_model_name": "HTMLModel",
            "_view_count": null,
            "_view_module": "@jupyter-widgets/controls",
            "_view_module_version": "1.5.0",
            "_view_name": "HTMLView",
            "description": "",
            "description_tooltip": null,
            "layout": "IPY_MODEL_068a0b7d558c4a3897522bf346722b70",
            "placeholder": "​",
            "style": "IPY_MODEL_92765a2bd7b64288bb689d6ba922659e",
            "value": "Downloading: 100%"
          }
        },
        "543e65fd25b9467f88718e5a126b324d": {
          "model_module": "@jupyter-widgets/controls",
          "model_name": "FloatProgressModel",
          "model_module_version": "1.5.0",
          "state": {
            "_dom_classes": [],
            "_model_module": "@jupyter-widgets/controls",
            "_model_module_version": "1.5.0",
            "_model_name": "FloatProgressModel",
            "_view_count": null,
            "_view_module": "@jupyter-widgets/controls",
            "_view_module_version": "1.5.0",
            "_view_name": "ProgressView",
            "bar_style": "success",
            "description": "",
            "description_tooltip": null,
            "layout": "IPY_MODEL_0fbb5d70fc5c431e8fee27b74232260a",
            "max": 791656,
            "min": 0,
            "orientation": "horizontal",
            "style": "IPY_MODEL_5ba51d620e5b400196bcbeb3c216650a",
            "value": 791656
          }
        },
        "ee33d45f8f314fb5b9f8280e8d1910af": {
          "model_module": "@jupyter-widgets/controls",
          "model_name": "HTMLModel",
          "model_module_version": "1.5.0",
          "state": {
            "_dom_classes": [],
            "_model_module": "@jupyter-widgets/controls",
            "_model_module_version": "1.5.0",
            "_model_name": "HTMLModel",
            "_view_count": null,
            "_view_module": "@jupyter-widgets/controls",
            "_view_module_version": "1.5.0",
            "_view_name": "HTMLView",
            "description": "",
            "description_tooltip": null,
            "layout": "IPY_MODEL_47df013d23f44d6bbfee2f37e4b3c93e",
            "placeholder": "​",
            "style": "IPY_MODEL_dcaef7ba2c224e9ab9767f8e729d342c",
            "value": " 792k/792k [00:00&lt;00:00, 644kB/s]"
          }
        },
        "76d59cf07d1444bc8c824326b5cadf91": {
          "model_module": "@jupyter-widgets/base",
          "model_name": "LayoutModel",
          "model_module_version": "1.2.0",
          "state": {
            "_model_module": "@jupyter-widgets/base",
            "_model_module_version": "1.2.0",
            "_model_name": "LayoutModel",
            "_view_count": null,
            "_view_module": "@jupyter-widgets/base",
            "_view_module_version": "1.2.0",
            "_view_name": "LayoutView",
            "align_content": null,
            "align_items": null,
            "align_self": null,
            "border": null,
            "bottom": null,
            "display": null,
            "flex": null,
            "flex_flow": null,
            "grid_area": null,
            "grid_auto_columns": null,
            "grid_auto_flow": null,
            "grid_auto_rows": null,
            "grid_column": null,
            "grid_gap": null,
            "grid_row": null,
            "grid_template_areas": null,
            "grid_template_columns": null,
            "grid_template_rows": null,
            "height": null,
            "justify_content": null,
            "justify_items": null,
            "left": null,
            "margin": null,
            "max_height": null,
            "max_width": null,
            "min_height": null,
            "min_width": null,
            "object_fit": null,
            "object_position": null,
            "order": null,
            "overflow": null,
            "overflow_x": null,
            "overflow_y": null,
            "padding": null,
            "right": null,
            "top": null,
            "visibility": null,
            "width": null
          }
        },
        "068a0b7d558c4a3897522bf346722b70": {
          "model_module": "@jupyter-widgets/base",
          "model_name": "LayoutModel",
          "model_module_version": "1.2.0",
          "state": {
            "_model_module": "@jupyter-widgets/base",
            "_model_module_version": "1.2.0",
            "_model_name": "LayoutModel",
            "_view_count": null,
            "_view_module": "@jupyter-widgets/base",
            "_view_module_version": "1.2.0",
            "_view_name": "LayoutView",
            "align_content": null,
            "align_items": null,
            "align_self": null,
            "border": null,
            "bottom": null,
            "display": null,
            "flex": null,
            "flex_flow": null,
            "grid_area": null,
            "grid_auto_columns": null,
            "grid_auto_flow": null,
            "grid_auto_rows": null,
            "grid_column": null,
            "grid_gap": null,
            "grid_row": null,
            "grid_template_areas": null,
            "grid_template_columns": null,
            "grid_template_rows": null,
            "height": null,
            "justify_content": null,
            "justify_items": null,
            "left": null,
            "margin": null,
            "max_height": null,
            "max_width": null,
            "min_height": null,
            "min_width": null,
            "object_fit": null,
            "object_position": null,
            "order": null,
            "overflow": null,
            "overflow_x": null,
            "overflow_y": null,
            "padding": null,
            "right": null,
            "top": null,
            "visibility": null,
            "width": null
          }
        },
        "92765a2bd7b64288bb689d6ba922659e": {
          "model_module": "@jupyter-widgets/controls",
          "model_name": "DescriptionStyleModel",
          "model_module_version": "1.5.0",
          "state": {
            "_model_module": "@jupyter-widgets/controls",
            "_model_module_version": "1.5.0",
            "_model_name": "DescriptionStyleModel",
            "_view_count": null,
            "_view_module": "@jupyter-widgets/base",
            "_view_module_version": "1.2.0",
            "_view_name": "StyleView",
            "description_width": ""
          }
        },
        "0fbb5d70fc5c431e8fee27b74232260a": {
          "model_module": "@jupyter-widgets/base",
          "model_name": "LayoutModel",
          "model_module_version": "1.2.0",
          "state": {
            "_model_module": "@jupyter-widgets/base",
            "_model_module_version": "1.2.0",
            "_model_name": "LayoutModel",
            "_view_count": null,
            "_view_module": "@jupyter-widgets/base",
            "_view_module_version": "1.2.0",
            "_view_name": "LayoutView",
            "align_content": null,
            "align_items": null,
            "align_self": null,
            "border": null,
            "bottom": null,
            "display": null,
            "flex": null,
            "flex_flow": null,
            "grid_area": null,
            "grid_auto_columns": null,
            "grid_auto_flow": null,
            "grid_auto_rows": null,
            "grid_column": null,
            "grid_gap": null,
            "grid_row": null,
            "grid_template_areas": null,
            "grid_template_columns": null,
            "grid_template_rows": null,
            "height": null,
            "justify_content": null,
            "justify_items": null,
            "left": null,
            "margin": null,
            "max_height": null,
            "max_width": null,
            "min_height": null,
            "min_width": null,
            "object_fit": null,
            "object_position": null,
            "order": null,
            "overflow": null,
            "overflow_x": null,
            "overflow_y": null,
            "padding": null,
            "right": null,
            "top": null,
            "visibility": null,
            "width": null
          }
        },
        "5ba51d620e5b400196bcbeb3c216650a": {
          "model_module": "@jupyter-widgets/controls",
          "model_name": "ProgressStyleModel",
          "model_module_version": "1.5.0",
          "state": {
            "_model_module": "@jupyter-widgets/controls",
            "_model_module_version": "1.5.0",
            "_model_name": "ProgressStyleModel",
            "_view_count": null,
            "_view_module": "@jupyter-widgets/base",
            "_view_module_version": "1.2.0",
            "_view_name": "StyleView",
            "bar_color": null,
            "description_width": ""
          }
        },
        "47df013d23f44d6bbfee2f37e4b3c93e": {
          "model_module": "@jupyter-widgets/base",
          "model_name": "LayoutModel",
          "model_module_version": "1.2.0",
          "state": {
            "_model_module": "@jupyter-widgets/base",
            "_model_module_version": "1.2.0",
            "_model_name": "LayoutModel",
            "_view_count": null,
            "_view_module": "@jupyter-widgets/base",
            "_view_module_version": "1.2.0",
            "_view_name": "LayoutView",
            "align_content": null,
            "align_items": null,
            "align_self": null,
            "border": null,
            "bottom": null,
            "display": null,
            "flex": null,
            "flex_flow": null,
            "grid_area": null,
            "grid_auto_columns": null,
            "grid_auto_flow": null,
            "grid_auto_rows": null,
            "grid_column": null,
            "grid_gap": null,
            "grid_row": null,
            "grid_template_areas": null,
            "grid_template_columns": null,
            "grid_template_rows": null,
            "height": null,
            "justify_content": null,
            "justify_items": null,
            "left": null,
            "margin": null,
            "max_height": null,
            "max_width": null,
            "min_height": null,
            "min_width": null,
            "object_fit": null,
            "object_position": null,
            "order": null,
            "overflow": null,
            "overflow_x": null,
            "overflow_y": null,
            "padding": null,
            "right": null,
            "top": null,
            "visibility": null,
            "width": null
          }
        },
        "dcaef7ba2c224e9ab9767f8e729d342c": {
          "model_module": "@jupyter-widgets/controls",
          "model_name": "DescriptionStyleModel",
          "model_module_version": "1.5.0",
          "state": {
            "_model_module": "@jupyter-widgets/controls",
            "_model_module_version": "1.5.0",
            "_model_name": "DescriptionStyleModel",
            "_view_count": null,
            "_view_module": "@jupyter-widgets/base",
            "_view_module_version": "1.2.0",
            "_view_name": "StyleView",
            "description_width": ""
          }
        },
        "6ae99ec87868426a9f5f41a699c00af2": {
          "model_module": "@jupyter-widgets/controls",
          "model_name": "HBoxModel",
          "model_module_version": "1.5.0",
          "state": {
            "_dom_classes": [],
            "_model_module": "@jupyter-widgets/controls",
            "_model_module_version": "1.5.0",
            "_model_name": "HBoxModel",
            "_view_count": null,
            "_view_module": "@jupyter-widgets/controls",
            "_view_module_version": "1.5.0",
            "_view_name": "HBoxView",
            "box_style": "",
            "children": [
              "IPY_MODEL_31f47c47647544f09af3f665f11fd37d",
              "IPY_MODEL_6554935a79134d25a55204b7e40ddf6c",
              "IPY_MODEL_b6e15eb34846421f9c25edf1d341c0d7"
            ],
            "layout": "IPY_MODEL_6db7463782bf49b8b23a6879c5d5a107"
          }
        },
        "31f47c47647544f09af3f665f11fd37d": {
          "model_module": "@jupyter-widgets/controls",
          "model_name": "HTMLModel",
          "model_module_version": "1.5.0",
          "state": {
            "_dom_classes": [],
            "_model_module": "@jupyter-widgets/controls",
            "_model_module_version": "1.5.0",
            "_model_name": "HTMLModel",
            "_view_count": null,
            "_view_module": "@jupyter-widgets/controls",
            "_view_module_version": "1.5.0",
            "_view_name": "HTMLView",
            "description": "",
            "description_tooltip": null,
            "layout": "IPY_MODEL_8a403fd0a6dd4ee0b98fc479fb6c2733",
            "placeholder": "​",
            "style": "IPY_MODEL_438aaa3325be456392ec9f6bddff571b",
            "value": "Downloading: 100%"
          }
        },
        "6554935a79134d25a55204b7e40ddf6c": {
          "model_module": "@jupyter-widgets/controls",
          "model_name": "FloatProgressModel",
          "model_module_version": "1.5.0",
          "state": {
            "_dom_classes": [],
            "_model_module": "@jupyter-widgets/controls",
            "_model_module_version": "1.5.0",
            "_model_name": "FloatProgressModel",
            "_view_count": null,
            "_view_module": "@jupyter-widgets/controls",
            "_view_module_version": "1.5.0",
            "_view_name": "ProgressView",
            "bar_style": "success",
            "description": "",
            "description_tooltip": null,
            "layout": "IPY_MODEL_d173c40df3514d9bb8ae3740d74b8e61",
            "max": 1197,
            "min": 0,
            "orientation": "horizontal",
            "style": "IPY_MODEL_c93e9037894741429ba7d1c89ba8d7d6",
            "value": 1197
          }
        },
        "b6e15eb34846421f9c25edf1d341c0d7": {
          "model_module": "@jupyter-widgets/controls",
          "model_name": "HTMLModel",
          "model_module_version": "1.5.0",
          "state": {
            "_dom_classes": [],
            "_model_module": "@jupyter-widgets/controls",
            "_model_module_version": "1.5.0",
            "_model_name": "HTMLModel",
            "_view_count": null,
            "_view_module": "@jupyter-widgets/controls",
            "_view_module_version": "1.5.0",
            "_view_name": "HTMLView",
            "description": "",
            "description_tooltip": null,
            "layout": "IPY_MODEL_89443c579e454e949353c38efb4ab37e",
            "placeholder": "​",
            "style": "IPY_MODEL_75bd16502ff1432293f3a96eb66b717e",
            "value": " 1.20k/1.20k [00:00&lt;00:00, 34.4kB/s]"
          }
        },
        "6db7463782bf49b8b23a6879c5d5a107": {
          "model_module": "@jupyter-widgets/base",
          "model_name": "LayoutModel",
          "model_module_version": "1.2.0",
          "state": {
            "_model_module": "@jupyter-widgets/base",
            "_model_module_version": "1.2.0",
            "_model_name": "LayoutModel",
            "_view_count": null,
            "_view_module": "@jupyter-widgets/base",
            "_view_module_version": "1.2.0",
            "_view_name": "LayoutView",
            "align_content": null,
            "align_items": null,
            "align_self": null,
            "border": null,
            "bottom": null,
            "display": null,
            "flex": null,
            "flex_flow": null,
            "grid_area": null,
            "grid_auto_columns": null,
            "grid_auto_flow": null,
            "grid_auto_rows": null,
            "grid_column": null,
            "grid_gap": null,
            "grid_row": null,
            "grid_template_areas": null,
            "grid_template_columns": null,
            "grid_template_rows": null,
            "height": null,
            "justify_content": null,
            "justify_items": null,
            "left": null,
            "margin": null,
            "max_height": null,
            "max_width": null,
            "min_height": null,
            "min_width": null,
            "object_fit": null,
            "object_position": null,
            "order": null,
            "overflow": null,
            "overflow_x": null,
            "overflow_y": null,
            "padding": null,
            "right": null,
            "top": null,
            "visibility": null,
            "width": null
          }
        },
        "8a403fd0a6dd4ee0b98fc479fb6c2733": {
          "model_module": "@jupyter-widgets/base",
          "model_name": "LayoutModel",
          "model_module_version": "1.2.0",
          "state": {
            "_model_module": "@jupyter-widgets/base",
            "_model_module_version": "1.2.0",
            "_model_name": "LayoutModel",
            "_view_count": null,
            "_view_module": "@jupyter-widgets/base",
            "_view_module_version": "1.2.0",
            "_view_name": "LayoutView",
            "align_content": null,
            "align_items": null,
            "align_self": null,
            "border": null,
            "bottom": null,
            "display": null,
            "flex": null,
            "flex_flow": null,
            "grid_area": null,
            "grid_auto_columns": null,
            "grid_auto_flow": null,
            "grid_auto_rows": null,
            "grid_column": null,
            "grid_gap": null,
            "grid_row": null,
            "grid_template_areas": null,
            "grid_template_columns": null,
            "grid_template_rows": null,
            "height": null,
            "justify_content": null,
            "justify_items": null,
            "left": null,
            "margin": null,
            "max_height": null,
            "max_width": null,
            "min_height": null,
            "min_width": null,
            "object_fit": null,
            "object_position": null,
            "order": null,
            "overflow": null,
            "overflow_x": null,
            "overflow_y": null,
            "padding": null,
            "right": null,
            "top": null,
            "visibility": null,
            "width": null
          }
        },
        "438aaa3325be456392ec9f6bddff571b": {
          "model_module": "@jupyter-widgets/controls",
          "model_name": "DescriptionStyleModel",
          "model_module_version": "1.5.0",
          "state": {
            "_model_module": "@jupyter-widgets/controls",
            "_model_module_version": "1.5.0",
            "_model_name": "DescriptionStyleModel",
            "_view_count": null,
            "_view_module": "@jupyter-widgets/base",
            "_view_module_version": "1.2.0",
            "_view_name": "StyleView",
            "description_width": ""
          }
        },
        "d173c40df3514d9bb8ae3740d74b8e61": {
          "model_module": "@jupyter-widgets/base",
          "model_name": "LayoutModel",
          "model_module_version": "1.2.0",
          "state": {
            "_model_module": "@jupyter-widgets/base",
            "_model_module_version": "1.2.0",
            "_model_name": "LayoutModel",
            "_view_count": null,
            "_view_module": "@jupyter-widgets/base",
            "_view_module_version": "1.2.0",
            "_view_name": "LayoutView",
            "align_content": null,
            "align_items": null,
            "align_self": null,
            "border": null,
            "bottom": null,
            "display": null,
            "flex": null,
            "flex_flow": null,
            "grid_area": null,
            "grid_auto_columns": null,
            "grid_auto_flow": null,
            "grid_auto_rows": null,
            "grid_column": null,
            "grid_gap": null,
            "grid_row": null,
            "grid_template_areas": null,
            "grid_template_columns": null,
            "grid_template_rows": null,
            "height": null,
            "justify_content": null,
            "justify_items": null,
            "left": null,
            "margin": null,
            "max_height": null,
            "max_width": null,
            "min_height": null,
            "min_width": null,
            "object_fit": null,
            "object_position": null,
            "order": null,
            "overflow": null,
            "overflow_x": null,
            "overflow_y": null,
            "padding": null,
            "right": null,
            "top": null,
            "visibility": null,
            "width": null
          }
        },
        "c93e9037894741429ba7d1c89ba8d7d6": {
          "model_module": "@jupyter-widgets/controls",
          "model_name": "ProgressStyleModel",
          "model_module_version": "1.5.0",
          "state": {
            "_model_module": "@jupyter-widgets/controls",
            "_model_module_version": "1.5.0",
            "_model_name": "ProgressStyleModel",
            "_view_count": null,
            "_view_module": "@jupyter-widgets/base",
            "_view_module_version": "1.2.0",
            "_view_name": "StyleView",
            "bar_color": null,
            "description_width": ""
          }
        },
        "89443c579e454e949353c38efb4ab37e": {
          "model_module": "@jupyter-widgets/base",
          "model_name": "LayoutModel",
          "model_module_version": "1.2.0",
          "state": {
            "_model_module": "@jupyter-widgets/base",
            "_model_module_version": "1.2.0",
            "_model_name": "LayoutModel",
            "_view_count": null,
            "_view_module": "@jupyter-widgets/base",
            "_view_module_version": "1.2.0",
            "_view_name": "LayoutView",
            "align_content": null,
            "align_items": null,
            "align_self": null,
            "border": null,
            "bottom": null,
            "display": null,
            "flex": null,
            "flex_flow": null,
            "grid_area": null,
            "grid_auto_columns": null,
            "grid_auto_flow": null,
            "grid_auto_rows": null,
            "grid_column": null,
            "grid_gap": null,
            "grid_row": null,
            "grid_template_areas": null,
            "grid_template_columns": null,
            "grid_template_rows": null,
            "height": null,
            "justify_content": null,
            "justify_items": null,
            "left": null,
            "margin": null,
            "max_height": null,
            "max_width": null,
            "min_height": null,
            "min_width": null,
            "object_fit": null,
            "object_position": null,
            "order": null,
            "overflow": null,
            "overflow_x": null,
            "overflow_y": null,
            "padding": null,
            "right": null,
            "top": null,
            "visibility": null,
            "width": null
          }
        },
        "75bd16502ff1432293f3a96eb66b717e": {
          "model_module": "@jupyter-widgets/controls",
          "model_name": "DescriptionStyleModel",
          "model_module_version": "1.5.0",
          "state": {
            "_model_module": "@jupyter-widgets/controls",
            "_model_module_version": "1.5.0",
            "_model_name": "DescriptionStyleModel",
            "_view_count": null,
            "_view_module": "@jupyter-widgets/base",
            "_view_module_version": "1.2.0",
            "_view_name": "StyleView",
            "description_width": ""
          }
        },
        "71249937d8374437baf81c66e9edd489": {
          "model_module": "@jupyter-widgets/controls",
          "model_name": "HBoxModel",
          "model_module_version": "1.5.0",
          "state": {
            "_dom_classes": [],
            "_model_module": "@jupyter-widgets/controls",
            "_model_module_version": "1.5.0",
            "_model_name": "HBoxModel",
            "_view_count": null,
            "_view_module": "@jupyter-widgets/controls",
            "_view_module_version": "1.5.0",
            "_view_name": "HBoxView",
            "box_style": "",
            "children": [
              "IPY_MODEL_0d4306ffbebf44dba12cf27361344871",
              "IPY_MODEL_b14c57e315034c9d9ca1e8e81aecd71e",
              "IPY_MODEL_e9ca6960e489462c895bc3da5470b191"
            ],
            "layout": "IPY_MODEL_e7e2f06f89154577bdc571fc64f3096c"
          }
        },
        "0d4306ffbebf44dba12cf27361344871": {
          "model_module": "@jupyter-widgets/controls",
          "model_name": "HTMLModel",
          "model_module_version": "1.5.0",
          "state": {
            "_dom_classes": [],
            "_model_module": "@jupyter-widgets/controls",
            "_model_module_version": "1.5.0",
            "_model_name": "HTMLModel",
            "_view_count": null,
            "_view_module": "@jupyter-widgets/controls",
            "_view_module_version": "1.5.0",
            "_view_name": "HTMLView",
            "description": "",
            "description_tooltip": null,
            "layout": "IPY_MODEL_8f95725f4d1849e3bfbee1a5651c4bc8",
            "placeholder": "​",
            "style": "IPY_MODEL_382495887f4b46db8d9132319c7f6574",
            "value": "Downloading: 100%"
          }
        },
        "b14c57e315034c9d9ca1e8e81aecd71e": {
          "model_module": "@jupyter-widgets/controls",
          "model_name": "FloatProgressModel",
          "model_module_version": "1.5.0",
          "state": {
            "_dom_classes": [],
            "_model_module": "@jupyter-widgets/controls",
            "_model_module_version": "1.5.0",
            "_model_name": "FloatProgressModel",
            "_view_count": null,
            "_view_module": "@jupyter-widgets/controls",
            "_view_module_version": "1.5.0",
            "_view_name": "ProgressView",
            "bar_style": "success",
            "description": "",
            "description_tooltip": null,
            "layout": "IPY_MODEL_46fa3fe17e52485cb6a92de527eeb76a",
            "max": 242065649,
            "min": 0,
            "orientation": "horizontal",
            "style": "IPY_MODEL_498c8413b3b8479fb1d3e5340a8042a0",
            "value": 242065649
          }
        },
        "e9ca6960e489462c895bc3da5470b191": {
          "model_module": "@jupyter-widgets/controls",
          "model_name": "HTMLModel",
          "model_module_version": "1.5.0",
          "state": {
            "_dom_classes": [],
            "_model_module": "@jupyter-widgets/controls",
            "_model_module_version": "1.5.0",
            "_model_name": "HTMLModel",
            "_view_count": null,
            "_view_module": "@jupyter-widgets/controls",
            "_view_module_version": "1.5.0",
            "_view_name": "HTMLView",
            "description": "",
            "description_tooltip": null,
            "layout": "IPY_MODEL_03dcd63451fa436cb919775633c379a5",
            "placeholder": "​",
            "style": "IPY_MODEL_5306b455b8ef456f9d1df8793954612f",
            "value": " 242M/242M [00:07&lt;00:00, 34.0MB/s]"
          }
        },
        "e7e2f06f89154577bdc571fc64f3096c": {
          "model_module": "@jupyter-widgets/base",
          "model_name": "LayoutModel",
          "model_module_version": "1.2.0",
          "state": {
            "_model_module": "@jupyter-widgets/base",
            "_model_module_version": "1.2.0",
            "_model_name": "LayoutModel",
            "_view_count": null,
            "_view_module": "@jupyter-widgets/base",
            "_view_module_version": "1.2.0",
            "_view_name": "LayoutView",
            "align_content": null,
            "align_items": null,
            "align_self": null,
            "border": null,
            "bottom": null,
            "display": null,
            "flex": null,
            "flex_flow": null,
            "grid_area": null,
            "grid_auto_columns": null,
            "grid_auto_flow": null,
            "grid_auto_rows": null,
            "grid_column": null,
            "grid_gap": null,
            "grid_row": null,
            "grid_template_areas": null,
            "grid_template_columns": null,
            "grid_template_rows": null,
            "height": null,
            "justify_content": null,
            "justify_items": null,
            "left": null,
            "margin": null,
            "max_height": null,
            "max_width": null,
            "min_height": null,
            "min_width": null,
            "object_fit": null,
            "object_position": null,
            "order": null,
            "overflow": null,
            "overflow_x": null,
            "overflow_y": null,
            "padding": null,
            "right": null,
            "top": null,
            "visibility": null,
            "width": null
          }
        },
        "8f95725f4d1849e3bfbee1a5651c4bc8": {
          "model_module": "@jupyter-widgets/base",
          "model_name": "LayoutModel",
          "model_module_version": "1.2.0",
          "state": {
            "_model_module": "@jupyter-widgets/base",
            "_model_module_version": "1.2.0",
            "_model_name": "LayoutModel",
            "_view_count": null,
            "_view_module": "@jupyter-widgets/base",
            "_view_module_version": "1.2.0",
            "_view_name": "LayoutView",
            "align_content": null,
            "align_items": null,
            "align_self": null,
            "border": null,
            "bottom": null,
            "display": null,
            "flex": null,
            "flex_flow": null,
            "grid_area": null,
            "grid_auto_columns": null,
            "grid_auto_flow": null,
            "grid_auto_rows": null,
            "grid_column": null,
            "grid_gap": null,
            "grid_row": null,
            "grid_template_areas": null,
            "grid_template_columns": null,
            "grid_template_rows": null,
            "height": null,
            "justify_content": null,
            "justify_items": null,
            "left": null,
            "margin": null,
            "max_height": null,
            "max_width": null,
            "min_height": null,
            "min_width": null,
            "object_fit": null,
            "object_position": null,
            "order": null,
            "overflow": null,
            "overflow_x": null,
            "overflow_y": null,
            "padding": null,
            "right": null,
            "top": null,
            "visibility": null,
            "width": null
          }
        },
        "382495887f4b46db8d9132319c7f6574": {
          "model_module": "@jupyter-widgets/controls",
          "model_name": "DescriptionStyleModel",
          "model_module_version": "1.5.0",
          "state": {
            "_model_module": "@jupyter-widgets/controls",
            "_model_module_version": "1.5.0",
            "_model_name": "DescriptionStyleModel",
            "_view_count": null,
            "_view_module": "@jupyter-widgets/base",
            "_view_module_version": "1.2.0",
            "_view_name": "StyleView",
            "description_width": ""
          }
        },
        "46fa3fe17e52485cb6a92de527eeb76a": {
          "model_module": "@jupyter-widgets/base",
          "model_name": "LayoutModel",
          "model_module_version": "1.2.0",
          "state": {
            "_model_module": "@jupyter-widgets/base",
            "_model_module_version": "1.2.0",
            "_model_name": "LayoutModel",
            "_view_count": null,
            "_view_module": "@jupyter-widgets/base",
            "_view_module_version": "1.2.0",
            "_view_name": "LayoutView",
            "align_content": null,
            "align_items": null,
            "align_self": null,
            "border": null,
            "bottom": null,
            "display": null,
            "flex": null,
            "flex_flow": null,
            "grid_area": null,
            "grid_auto_columns": null,
            "grid_auto_flow": null,
            "grid_auto_rows": null,
            "grid_column": null,
            "grid_gap": null,
            "grid_row": null,
            "grid_template_areas": null,
            "grid_template_columns": null,
            "grid_template_rows": null,
            "height": null,
            "justify_content": null,
            "justify_items": null,
            "left": null,
            "margin": null,
            "max_height": null,
            "max_width": null,
            "min_height": null,
            "min_width": null,
            "object_fit": null,
            "object_position": null,
            "order": null,
            "overflow": null,
            "overflow_x": null,
            "overflow_y": null,
            "padding": null,
            "right": null,
            "top": null,
            "visibility": null,
            "width": null
          }
        },
        "498c8413b3b8479fb1d3e5340a8042a0": {
          "model_module": "@jupyter-widgets/controls",
          "model_name": "ProgressStyleModel",
          "model_module_version": "1.5.0",
          "state": {
            "_model_module": "@jupyter-widgets/controls",
            "_model_module_version": "1.5.0",
            "_model_name": "ProgressStyleModel",
            "_view_count": null,
            "_view_module": "@jupyter-widgets/base",
            "_view_module_version": "1.2.0",
            "_view_name": "StyleView",
            "bar_color": null,
            "description_width": ""
          }
        },
        "03dcd63451fa436cb919775633c379a5": {
          "model_module": "@jupyter-widgets/base",
          "model_name": "LayoutModel",
          "model_module_version": "1.2.0",
          "state": {
            "_model_module": "@jupyter-widgets/base",
            "_model_module_version": "1.2.0",
            "_model_name": "LayoutModel",
            "_view_count": null,
            "_view_module": "@jupyter-widgets/base",
            "_view_module_version": "1.2.0",
            "_view_name": "LayoutView",
            "align_content": null,
            "align_items": null,
            "align_self": null,
            "border": null,
            "bottom": null,
            "display": null,
            "flex": null,
            "flex_flow": null,
            "grid_area": null,
            "grid_auto_columns": null,
            "grid_auto_flow": null,
            "grid_auto_rows": null,
            "grid_column": null,
            "grid_gap": null,
            "grid_row": null,
            "grid_template_areas": null,
            "grid_template_columns": null,
            "grid_template_rows": null,
            "height": null,
            "justify_content": null,
            "justify_items": null,
            "left": null,
            "margin": null,
            "max_height": null,
            "max_width": null,
            "min_height": null,
            "min_width": null,
            "object_fit": null,
            "object_position": null,
            "order": null,
            "overflow": null,
            "overflow_x": null,
            "overflow_y": null,
            "padding": null,
            "right": null,
            "top": null,
            "visibility": null,
            "width": null
          }
        },
        "5306b455b8ef456f9d1df8793954612f": {
          "model_module": "@jupyter-widgets/controls",
          "model_name": "DescriptionStyleModel",
          "model_module_version": "1.5.0",
          "state": {
            "_model_module": "@jupyter-widgets/controls",
            "_model_module_version": "1.5.0",
            "_model_name": "DescriptionStyleModel",
            "_view_count": null,
            "_view_module": "@jupyter-widgets/base",
            "_view_module_version": "1.2.0",
            "_view_name": "StyleView",
            "description_width": ""
          }
        }
      }
    }
  },
  "cells": [
    {
      "cell_type": "markdown",
      "source": [
        "# Language modeling\n",
        "## 0: Install dependencies:\n",
        "\n",
        "**You can only use the libraries imported for you in this assignment**"
      ],
      "metadata": {
        "id": "3747Kpgry-91"
      }
    },
    {
      "cell_type": "code",
      "source": [
        "!pip install transformers==4.24.0 datasets==2.7.0 tqdm==4.64.1 sentencepiece==0.1.97 gensim==4.2.0 apache-beam==2.42.0 sentence-transformers==2.2.2 googledrivedownloader"
      ],
      "metadata": {
        "id": "syRxbsHSy7oh",
        "outputId": "e1d07f0a-bb39-4e95-c69b-213432772e94",
        "colab": {
          "base_uri": "https://localhost:8080/"
        }
      },
      "execution_count": 34,
      "outputs": [
        {
          "output_type": "stream",
          "name": "stdout",
          "text": [
            "Looking in indexes: https://pypi.org/simple, https://us-python.pkg.dev/colab-wheels/public/simple/\n",
            "Requirement already satisfied: transformers==4.24.0 in /usr/local/lib/python3.8/dist-packages (4.24.0)\n",
            "Requirement already satisfied: datasets==2.7.0 in /usr/local/lib/python3.8/dist-packages (2.7.0)\n",
            "Requirement already satisfied: tqdm==4.64.1 in /usr/local/lib/python3.8/dist-packages (4.64.1)\n",
            "Requirement already satisfied: sentencepiece==0.1.97 in /usr/local/lib/python3.8/dist-packages (0.1.97)\n",
            "Requirement already satisfied: gensim==4.2.0 in /usr/local/lib/python3.8/dist-packages (4.2.0)\n",
            "Requirement already satisfied: apache-beam==2.42.0 in /usr/local/lib/python3.8/dist-packages (2.42.0)\n",
            "Requirement already satisfied: sentence-transformers==2.2.2 in /usr/local/lib/python3.8/dist-packages (2.2.2)\n",
            "Requirement already satisfied: googledrivedownloader in /usr/local/lib/python3.8/dist-packages (0.4)\n",
            "Requirement already satisfied: regex!=2019.12.17 in /usr/local/lib/python3.8/dist-packages (from transformers==4.24.0) (2022.6.2)\n",
            "Requirement already satisfied: pyyaml>=5.1 in /usr/local/lib/python3.8/dist-packages (from transformers==4.24.0) (6.0)\n",
            "Requirement already satisfied: packaging>=20.0 in /usr/local/lib/python3.8/dist-packages (from transformers==4.24.0) (21.3)\n",
            "Requirement already satisfied: filelock in /usr/local/lib/python3.8/dist-packages (from transformers==4.24.0) (3.8.0)\n",
            "Requirement already satisfied: requests in /usr/local/lib/python3.8/dist-packages (from transformers==4.24.0) (2.28.1)\n",
            "Requirement already satisfied: tokenizers!=0.11.3,<0.14,>=0.11.1 in /usr/local/lib/python3.8/dist-packages (from transformers==4.24.0) (0.13.2)\n",
            "Requirement already satisfied: huggingface-hub<1.0,>=0.10.0 in /usr/local/lib/python3.8/dist-packages (from transformers==4.24.0) (0.11.1)\n",
            "Requirement already satisfied: numpy>=1.17 in /usr/local/lib/python3.8/dist-packages (from transformers==4.24.0) (1.21.6)\n",
            "Requirement already satisfied: multiprocess in /usr/local/lib/python3.8/dist-packages (from datasets==2.7.0) (0.70.9)\n",
            "Requirement already satisfied: dill<0.3.7 in /usr/local/lib/python3.8/dist-packages (from datasets==2.7.0) (0.3.1.1)\n",
            "Requirement already satisfied: pyarrow>=6.0.0 in /usr/local/lib/python3.8/dist-packages (from datasets==2.7.0) (7.0.0)\n",
            "Requirement already satisfied: fsspec[http]>=2021.11.1 in /usr/local/lib/python3.8/dist-packages (from datasets==2.7.0) (2022.11.0)\n",
            "Requirement already satisfied: pandas in /usr/local/lib/python3.8/dist-packages (from datasets==2.7.0) (1.3.5)\n",
            "Requirement already satisfied: aiohttp in /usr/local/lib/python3.8/dist-packages (from datasets==2.7.0) (3.8.3)\n",
            "Requirement already satisfied: responses<0.19 in /usr/local/lib/python3.8/dist-packages (from datasets==2.7.0) (0.18.0)\n",
            "Requirement already satisfied: xxhash in /usr/local/lib/python3.8/dist-packages (from datasets==2.7.0) (3.1.0)\n",
            "Requirement already satisfied: smart-open>=1.8.1 in /usr/local/lib/python3.8/dist-packages (from gensim==4.2.0) (5.2.1)\n",
            "Requirement already satisfied: scipy>=0.18.1 in /usr/local/lib/python3.8/dist-packages (from gensim==4.2.0) (1.7.3)\n",
            "Requirement already satisfied: typing-extensions>=3.7.0 in /usr/local/lib/python3.8/dist-packages (from apache-beam==2.42.0) (4.4.0)\n",
            "Requirement already satisfied: zstandard<1,>=0.18.0 in /usr/local/lib/python3.8/dist-packages (from apache-beam==2.42.0) (0.19.0)\n",
            "Requirement already satisfied: grpcio!=1.48.0,<2,>=1.33.1 in /usr/local/lib/python3.8/dist-packages (from apache-beam==2.42.0) (1.51.1)\n",
            "Requirement already satisfied: orjson<4.0 in /usr/local/lib/python3.8/dist-packages (from apache-beam==2.42.0) (3.8.3)\n",
            "Requirement already satisfied: fastavro<2,>=0.23.6 in /usr/local/lib/python3.8/dist-packages (from apache-beam==2.42.0) (1.7.0)\n",
            "Requirement already satisfied: cloudpickle~=2.1.0 in /usr/local/lib/python3.8/dist-packages (from apache-beam==2.42.0) (2.1.0)\n",
            "Requirement already satisfied: python-dateutil<3,>=2.8.0 in /usr/local/lib/python3.8/dist-packages (from apache-beam==2.42.0) (2.8.2)\n",
            "Requirement already satisfied: crcmod<2.0,>=1.7 in /usr/local/lib/python3.8/dist-packages (from apache-beam==2.42.0) (1.7)\n",
            "Requirement already satisfied: hdfs<3.0.0,>=2.1.0 in /usr/local/lib/python3.8/dist-packages (from apache-beam==2.42.0) (2.7.0)\n",
            "Requirement already satisfied: protobuf<4,>=3.12.2 in /usr/local/lib/python3.8/dist-packages (from apache-beam==2.42.0) (3.19.6)\n",
            "Requirement already satisfied: pymongo<4.0.0,>=3.8.0 in /usr/local/lib/python3.8/dist-packages (from apache-beam==2.42.0) (3.13.0)\n",
            "Requirement already satisfied: pydot<2,>=1.2.0 in /usr/local/lib/python3.8/dist-packages (from apache-beam==2.42.0) (1.3.0)\n",
            "Requirement already satisfied: proto-plus<2,>=1.7.1 in /usr/local/lib/python3.8/dist-packages (from apache-beam==2.42.0) (1.22.1)\n",
            "Requirement already satisfied: httplib2<0.21.0,>=0.8 in /usr/local/lib/python3.8/dist-packages (from apache-beam==2.42.0) (0.17.4)\n",
            "Requirement already satisfied: pytz>=2018.3 in /usr/local/lib/python3.8/dist-packages (from apache-beam==2.42.0) (2022.6)\n",
            "Requirement already satisfied: torchvision in /usr/local/lib/python3.8/dist-packages (from sentence-transformers==2.2.2) (0.14.0+cu116)\n",
            "Requirement already satisfied: scikit-learn in /usr/local/lib/python3.8/dist-packages (from sentence-transformers==2.2.2) (1.0.2)\n",
            "Requirement already satisfied: torch>=1.6.0 in /usr/local/lib/python3.8/dist-packages (from sentence-transformers==2.2.2) (1.13.0+cu116)\n",
            "Requirement already satisfied: nltk in /usr/local/lib/python3.8/dist-packages (from sentence-transformers==2.2.2) (3.7)\n",
            "Requirement already satisfied: frozenlist>=1.1.1 in /usr/local/lib/python3.8/dist-packages (from aiohttp->datasets==2.7.0) (1.3.3)\n",
            "Requirement already satisfied: aiosignal>=1.1.2 in /usr/local/lib/python3.8/dist-packages (from aiohttp->datasets==2.7.0) (1.3.1)\n",
            "Requirement already satisfied: async-timeout<5.0,>=4.0.0a3 in /usr/local/lib/python3.8/dist-packages (from aiohttp->datasets==2.7.0) (4.0.2)\n",
            "Requirement already satisfied: charset-normalizer<3.0,>=2.0 in /usr/local/lib/python3.8/dist-packages (from aiohttp->datasets==2.7.0) (2.1.1)\n",
            "Requirement already satisfied: attrs>=17.3.0 in /usr/local/lib/python3.8/dist-packages (from aiohttp->datasets==2.7.0) (22.1.0)\n",
            "Requirement already satisfied: multidict<7.0,>=4.5 in /usr/local/lib/python3.8/dist-packages (from aiohttp->datasets==2.7.0) (6.0.3)\n",
            "Requirement already satisfied: yarl<2.0,>=1.0 in /usr/local/lib/python3.8/dist-packages (from aiohttp->datasets==2.7.0) (1.8.2)\n",
            "Requirement already satisfied: docopt in /usr/local/lib/python3.8/dist-packages (from hdfs<3.0.0,>=2.1.0->apache-beam==2.42.0) (0.6.2)\n",
            "Requirement already satisfied: six>=1.9.0 in /usr/local/lib/python3.8/dist-packages (from hdfs<3.0.0,>=2.1.0->apache-beam==2.42.0) (1.15.0)\n",
            "Requirement already satisfied: pyparsing!=3.0.5,>=2.0.2 in /usr/local/lib/python3.8/dist-packages (from packaging>=20.0->transformers==4.24.0) (3.0.9)\n",
            "Requirement already satisfied: certifi>=2017.4.17 in /usr/local/lib/python3.8/dist-packages (from requests->transformers==4.24.0) (2022.9.24)\n",
            "Requirement already satisfied: idna<4,>=2.5 in /usr/local/lib/python3.8/dist-packages (from requests->transformers==4.24.0) (2.10)\n",
            "Requirement already satisfied: urllib3<1.27,>=1.21.1 in /usr/local/lib/python3.8/dist-packages (from requests->transformers==4.24.0) (1.26.13)\n",
            "Requirement already satisfied: joblib in /usr/local/lib/python3.8/dist-packages (from nltk->sentence-transformers==2.2.2) (1.2.0)\n",
            "Requirement already satisfied: click in /usr/local/lib/python3.8/dist-packages (from nltk->sentence-transformers==2.2.2) (7.1.2)\n",
            "Requirement already satisfied: threadpoolctl>=2.0.0 in /usr/local/lib/python3.8/dist-packages (from scikit-learn->sentence-transformers==2.2.2) (3.1.0)\n",
            "Requirement already satisfied: pillow!=8.3.*,>=5.3.0 in /usr/local/lib/python3.8/dist-packages (from torchvision->sentence-transformers==2.2.2) (7.1.2)\n"
          ]
        }
      ]
    },
    {
      "cell_type": "markdown",
      "source": [
        "\n",
        "## 1: Introduction\n",
        "This section give you a quick introduction/refresher to language models"
      ],
      "metadata": {
        "id": "qeMIgxoOy8Un"
      }
    },
    {
      "cell_type": "markdown",
      "source": [
        "### What is a language model?\n",
        "A language model is a statistical model that give you the probability of some given text"
      ],
      "metadata": {
        "id": "N1P-nslE4gTk"
      }
    },
    {
      "cell_type": "markdown",
      "source": [
        "### What is a token?\n",
        "You can't find the probability of most sequences longer than a few words directly since the $26^N$ possible sequences of length N only including the lower case letters in the English alphabet. That number can become astronomically large quickly. \n",
        "\n",
        "Solution: break the text up into small units (tokens)\n",
        "\n",
        "Each token is typically a word or punctuation (but, can be other short sequences of characters)"
      ],
      "metadata": {
        "id": "CmxJcpeD6jyI"
      }
    },
    {
      "cell_type": "markdown",
      "source": [
        "**Question:** a) Finish the implementation exercises\n",
        "#### Your first exercise is to create a tokenizer which take some text as input and outputs a list of tokens\n",
        "\n",
        "To make things a little easier you can assume that all tokens are separated by \" \" or \"-\"\n",
        "\n",
        "You may use the `re` module, but there are simpler solutions that do not need it"
      ],
      "metadata": {
        "id": "0h8MBUfA_j59"
      }
    },
    {
      "cell_type": "code",
      "execution_count": 45,
      "metadata": {
        "id": "A6yRdym0ybj4",
        "colab": {
          "base_uri": "https://localhost:8080/"
        },
        "outputId": "c9a4d628-cfde-42e0-e47a-1852d5f84c27"
      },
      "outputs": [
        {
          "output_type": "stream",
          "name": "stdout",
          "text": [
            "['Is', 'water', 'a', 'Non', 'Newtonian', 'fluid', '?']\n"
          ]
        }
      ],
      "source": [
        "import re\n",
        "\n",
        "# Basic tokenizer function\n",
        "def tokenize(text: str) -> list:\n",
        "  \"\"\"\n",
        "  Input: text, the string to be tokenized\n",
        "  Output: tokens, a list of token strings\n",
        "\n",
        "  Turns text into a list of tokens\n",
        "  \"\"\"\n",
        "  # !!!!!!!!!!!!! Your code starts here !!!!!!!!!!!!! \n",
        "  tokens = re.split(' |-',text)\n",
        "\n",
        "  # !!!!!!!!!!!!! Your code ends here !!!!!!!!!!!!! \n",
        "  return tokens\n",
        "\n",
        "example_text = \"Is water a Non-Newtonian fluid ?\"\n",
        "tokenized_example_text = tokenize(example_text)\n",
        "print(tokenized_example_text)\n",
        "# Expected output: ['Is', 'water', 'a', 'Non', 'Newtonian', 'fluid', '?']"
      ]
    },
    {
      "cell_type": "markdown",
      "source": [
        "One of the simplest language models is the unigram model. It stores the probability of encountering each token, ignoring surrounding tokens(it does not use conditional probability):\n",
        "\n",
        "$P(sentence)=P(token_1)P(token_2)...P(token_N)$"
      ],
      "metadata": {
        "id": "TDnE_nkZUuQi"
      }
    },
    {
      "cell_type": "code",
      "source": [
        "import numpy as np\n",
        "\n",
        "class Unigram:\n",
        "\n",
        "  def __init__(self):\n",
        "    \"\"\"\n",
        "    Initializes log probabilities\n",
        "    \"\"\"\n",
        "    self.log_probabilities = {}\n",
        "    self.unknown_log_probability = 0.0\n",
        "\n",
        "  def train(self, sentences: list)->None:\n",
        "    \"\"\"\n",
        "    Input: sentences, list of already tokenized sentences \n",
        "    Ex. [['Hello','my','name','is','HAL'],['Hi','HAL']]\n",
        "\n",
        "    Save log probability of seeing each token using `np.log` to obtain the log probabilities\n",
        "\n",
        "    \"\"\"\n",
        "    # Add a single unknown token\n",
        "    sentences.append(['<unknown token>'])\n",
        "    # !!!!!!!!!!!!! Your code starts here !!!!!!!!!!!!!\n",
        "    len = 0 \n",
        "    unique_tokens = set(x for l in sentences for x in l)\n",
        "    self.log_probabilities = dict.fromkeys(unique_tokens, 0)\n",
        "    for i in sentences:\n",
        "      for j in i:\n",
        "        self.log_probabilities[j] += 1\n",
        "        len += 1\n",
        "\n",
        "    for key in self.log_probabilities:\n",
        "      self.log_probabilities[key]  = np.log(self.log_probabilities[key]/len)\n",
        "      \n",
        "    # !!!!!!!!!!!!! Your code ends here !!!!!!!!!!!!! \n",
        "    # Assign probability for unseen tokens\n",
        "    self.unknown_log_probability = self.log_probabilities.pop('<unknown token>')\n",
        "\n",
        "  def token_log_prob(self, token:str) -> float:\n",
        "    \"\"\"\n",
        "    Get the log probability of a single token with self.unknown_log_probability use if a token was not found during training\n",
        "    \"\"\"\n",
        "    # !!!!!!!!!!!!! Your code starts here !!!!!!!!!!!!! \n",
        "\n",
        "    if token in self.log_probabilities:\n",
        "      return self.log_probabilities[token]\n",
        "    else:\n",
        "      return self.unknown_log_probability\n",
        "\n",
        "    # !!!!!!!!!!!!! Your code ends here !!!!!!!!!!!!! \n",
        "\n",
        "  def sentence_log_prob(self, sentence:list) -> float:\n",
        "    \"\"\"\n",
        "    Get the log probability of an already tokenized sentence\n",
        "    \"\"\"\n",
        "    # !!!!!!!!!!!!! Your code starts here !!!!!!!!!!!!! \n",
        "    probability = 0\n",
        "\n",
        "    for token in sentence:\n",
        "      probability += self.token_log_prob(token)\n",
        "      \n",
        "    return probability\n",
        "\n",
        "    # !!!!!!!!!!!!! Your code ends here !!!!!!!!!!!!! \n",
        "\n",
        "model = Unigram()\n",
        "model.train([['Hello','my','name','is','HAL'],['Hi','HAL']])\n",
        "print('\"Hello\" log prob:',model.token_log_prob('Hello'))\n",
        "print('\"Hi my name is HAL\" log prob:',model.sentence_log_prob(tokenize(\"Hi my name is HAL\")))"
      ],
      "metadata": {
        "id": "xUofql43Ccg8",
        "colab": {
          "base_uri": "https://localhost:8080/"
        },
        "outputId": "07543e46-e104-4b65-be45-98cc3afc2a5b"
      },
      "execution_count": 36,
      "outputs": [
        {
          "output_type": "stream",
          "name": "stdout",
          "text": [
            "\"Hello\" log prob: -2.0794415416798357\n",
            "\"Hi my name is HAL\" log prob: -9.704060527839234\n"
          ]
        }
      ]
    },
    {
      "cell_type": "markdown",
      "source": [
        "We can use the Unigram model to classify text (but, may not have the highest accuracy)"
      ],
      "metadata": {
        "id": "-TrZT9jHUoJM"
      }
    },
    {
      "cell_type": "code",
      "source": [
        "import pandas as pd\n",
        "\n",
        "from google_drive_downloader import GoogleDriveDownloader as gdd\n",
        "\n",
        "gdd.download_file_from_google_drive(\n",
        "    file_id='1hyziAb67N3RuhhBSCtBhpQEPgr6ZIpJP',\n",
        "    dest_path='/tmp/emotion.csv'\n",
        ")\n",
        "df_full = pd.read_csv('/tmp/emotion.csv')\n",
        "df_train = df_full[df_full['subset']=='train'].copy()\n",
        "df_test = df_full[df_full['subset']=='test'].copy()\n",
        "label_key = [\"sadness\", \"joy\", \"love\", \"anger\", \"fear\", \"surprise\"]\n",
        "\n",
        "# Init models\n",
        "total_count = len(df_train)\n",
        "label_counts = df_train['label'].value_counts().sort_index()\n",
        "models = [{\n",
        "     'index': i,\n",
        "     'label': label,\n",
        "     'log_prior': np.log(label_counts.iloc[i]/total_count),\n",
        "     'unigram_model': Unigram(),\n",
        "} for i, label in enumerate(label_key)]\n",
        "\n",
        "# Train models\n",
        "for model in models:\n",
        "  df_train_matching_label = df_train[df_train['label']==model['index']]\n",
        "  tokenized_sentences = df_train_matching_label['text'].apply(tokenize).tolist()\n",
        "  model['unigram_model'].train(tokenized_sentences)"
      ],
      "metadata": {
        "id": "DPmS3fwZBUce"
      },
      "execution_count": 37,
      "outputs": []
    },
    {
      "cell_type": "code",
      "source": [
        "# Predict classes\n",
        "def predict(sentence:str)->int:\n",
        "  tokenized_sentence = tokenize(sentence)\n",
        "  highest_log_prob = float('-inf')\n",
        "  highest_log_prob_index = 0\n",
        "  for model in models:\n",
        "    # !!!!!!!!!!!!! Your code starts here !!!!!!!!!!!!! \n",
        "    # Compute log prob of the sentence using the unigram model + the log prior of the label\n",
        "\n",
        "    log_prob = model['unigram_model'].sentence_log_prob(tokenized_sentence) + model['log_prior']\n",
        "    \n",
        "    # !!!!!!!!!!!!! Your code ends here !!!!!!!!!!!!! \n",
        "    if log_prob > highest_log_prob:\n",
        "      highest_log_prob = log_prob\n",
        "      highest_log_prob_index = model['index']\n",
        "  return highest_log_prob_index\n",
        "\n",
        "df_test['predicted_label'] = df_test['text'].apply(predict)\n",
        "\n",
        "tp_count = sum(df_test['predicted_label']==df_test['label'])\n",
        "accuracy = tp_count/len(df_test)\n",
        "print(f'Accuracy: {accuracy*100}%')"
      ],
      "metadata": {
        "id": "vZaPT3ncVimN",
        "colab": {
          "base_uri": "https://localhost:8080/"
        },
        "outputId": "3a01a9bb-9948-4e39-d3c7-14ae1085bb67"
      },
      "execution_count": 38,
      "outputs": [
        {
          "output_type": "stream",
          "name": "stdout",
          "text": [
            "Accuracy: 62.3%\n"
          ]
        }
      ]
    },
    {
      "cell_type": "markdown",
      "source": [
        "\n",
        "## 2: Types of Language Models\n",
        "This sections explains different types of language models. We will go over 3 of the most used language model types:\n",
        "1. Causal\n",
        "2. Masked\n",
        "3. Sequence to sequence\n",
        "\n"
      ],
      "metadata": {
        "id": "HQ5Yovuqyyl3"
      }
    },
    {
      "cell_type": "markdown",
      "source": [
        "### 2.1: Causal language model\n",
        "\n",
        "A causal language model provides the probability of a token given the tokens before it\n",
        "\n",
        "$P(token_T|token_1,token_2,...,token_{T-1})$\n",
        "\n",
        "It is useful for a variety of NLP tasking including sequence generation and sequence classification\n",
        "\n",
        "Example:\n",
        "Hello, my name is ...\n",
        "\n",
        "Output:\n",
        "Hello, my name is HAL"
      ],
      "metadata": {
        "id": "f2tsj7E9gYRT"
      }
    },
    {
      "cell_type": "code",
      "source": [
        "from transformers import OpenAIGPTTokenizer, OpenAIGPTLMHeadModel, set_seed\n",
        "from tqdm import tqdm\n",
        "\n",
        "import torch\n",
        "import torch.nn as nn\n",
        "\n",
        "tokenizer = OpenAIGPTTokenizer.from_pretrained(\"openai-gpt\")\n",
        "model = OpenAIGPTLMHeadModel.from_pretrained(\"openai-gpt\")"
      ],
      "metadata": {
        "id": "1lumqe-5hmr4",
        "colab": {
          "base_uri": "https://localhost:8080/"
        },
        "outputId": "7eaaac02-c6c2-408d-b2f6-3968db21f7dd"
      },
      "execution_count": 39,
      "outputs": [
        {
          "output_type": "stream",
          "name": "stderr",
          "text": [
            "ftfy or spacy is not installed using BERT BasicTokenizer instead of SpaCy & ftfy.\n",
            "Some weights of OpenAIGPTLMHeadModel were not initialized from the model checkpoint at openai-gpt and are newly initialized: ['lm_head.weight']\n",
            "You should probably TRAIN this model on a down-stream task to be able to use it for predictions and inference.\n"
          ]
        }
      ]
    },
    {
      "cell_type": "markdown",
      "source": [
        "Here is an example"
      ],
      "metadata": {
        "id": "OyktiYVCmZpW"
      }
    },
    {
      "cell_type": "code",
      "source": [
        "def generate_gpt_text_greedy(input_text,sequence_max_length = 25):\n",
        "  \"\"\"\n",
        "  This uses greedy decoding which is not optimal for most tasks,\n",
        "  but requires little system resources and is simple to implement\n",
        "  \n",
        "  Recommended for deterministic tasks: Beam search\n",
        "  Recommended for creative tasks: Nucleus sampling\n",
        "  Recommended for low latency/real time tasks: Greedy decoding or Nucleus sampling\n",
        "\n",
        "  Note: Optimal decoding/generation algorithm depends on the task\n",
        "  \"\"\"\n",
        "  generated_text = input_text\n",
        "\n",
        "  # Generate a sequence\n",
        "  for i in tqdm(range(sequence_max_length)):\n",
        "    with torch.no_grad(): # Better preformance\n",
        "      inputs = tokenizer(generated_text, return_tensors=\"pt\")\n",
        "      outputs = model(**inputs)\n",
        "      next_token_logits = outputs.logits[0, -1, :]\n",
        "      next_token_index = torch.argmax(next_token_logits)\n",
        "      generated_text = tokenizer.decode(\n",
        "          torch.cat((inputs['input_ids'][0],torch.tensor([next_token_index]))) # generated_text = generated_text + new_token\n",
        "      )\n",
        "  \n",
        "  return generated_text\n",
        "\n",
        "input_text = \"Hello, my name is John Smith. I am the\"\n",
        "\n",
        "print(f'Generated: {generate_gpt_text_greedy(input_text)}')"
      ],
      "metadata": {
        "id": "d8elQsK3iPlU",
        "colab": {
          "base_uri": "https://localhost:8080/"
        },
        "outputId": "e71619b7-422a-4e6d-e354-590cd4611d3e"
      },
      "execution_count": 40,
      "outputs": [
        {
          "output_type": "stream",
          "name": "stderr",
          "text": [
            "100%|██████████| 25/25 [00:04<00:00,  6.16it/s]"
          ]
        },
        {
          "output_type": "stream",
          "name": "stdout",
          "text": [
            "Generated: hello, my name is john smith. i am the head of the department of defense. \"\n"
          ]
        },
        {
          "output_type": "stream",
          "name": "stderr",
          "text": [
            "\n"
          ]
        }
      ]
    },
    {
      "cell_type": "code",
      "source": [
        "alt_text = \"John said it again three times: \\\"No No No\"\n",
        "print(f'Generated: {generate_gpt_text_greedy(alt_text)}')"
      ],
      "metadata": {
        "id": "sS2jVWsOwyWi",
        "colab": {
          "base_uri": "https://localhost:8080/"
        },
        "outputId": "df2ae006-775d-4065-af69-cfe45fa996e8"
      },
      "execution_count": 10,
      "outputs": [
        {
          "output_type": "stream",
          "name": "stderr",
          "text": [
            "100%|██████████| 25/25 [00:07<00:00,  3.35it/s]"
          ]
        },
        {
          "output_type": "stream",
          "name": "stdout",
          "text": [
            "Generated: john said it again three times : \" no no no no no no no no no no no no no no no no no no no no no no no no no no no no\n"
          ]
        },
        {
          "output_type": "stream",
          "name": "stderr",
          "text": [
            "\n"
          ]
        }
      ]
    },
    {
      "cell_type": "markdown",
      "source": [
        "**Question:** b) \n",
        "\n",
        "i) What do you notice about the generated text?\n",
        "\n",
        "The word \"no\" is repeated for the rest of the sentence. As we are working with a causal model which uses the probabilities of the previous tokens, so the probability of the word that has the highest number of repeats will be higher than the others (and by trial and error, I found that the last words of the sentence are more important). On top of that, we are using a greedy policy that picks the most probable word each time. As a result, at each time step we get a \"no\".\n",
        "\n",
        "ii) How can this be avoided?\n",
        "As it is stated in the previous block, Nucleus sampling is a better choice for creative tasks. Methods that do not choose the highest probability and allow for exploration, will result better.\n"
      ],
      "metadata": {
        "id": "aZD2Ea56ozk-"
      }
    },
    {
      "cell_type": "markdown",
      "source": [
        "**Question:** c) (*CMPUT 566 Students Only*)\n",
        "Implement the Nucleas Sampling method described in Section 3.1 of https://arxiv.org/pdf/1904.09751.pdf. You can use any `torch` or `torch.nn` (`nn`) functions\n",
        "\n",
        "Hint: Use `torch.multinomial` for sampling\n",
        "\n"
      ],
      "metadata": {
        "id": "BbcAaBa8KRwV"
      }
    },
    {
      "cell_type": "code",
      "source": [
        "softmax = nn.Softmax(dim=0)\n",
        "\n",
        "def generate_gpt_text_nucleus_sampling(input_text, sequence_max_length = 25, p=0.9):\n",
        "  \"\"\"\n",
        "  This uses greedy decoding which is not optimal for most tasks,\n",
        "  but requires little system resources and is simple to implement\n",
        "  \n",
        "  Recommended for deterministic tasks: Beam search\n",
        "  Recommended for creative tasks: Nucleus sampling\n",
        "  Recommended for low latency/real time tasks: Greedy decoding or Nucleus sampling\n",
        "\n",
        "  Note: Optimal decoding/generation algorithm depends on the task\n",
        "  \"\"\"\n",
        "  generated_text = input_text\n",
        "\n",
        "  # Generate a sequence\n",
        "  for i in tqdm(range(sequence_max_length)):\n",
        "    with torch.no_grad(): # Better preformance\n",
        "      inputs = tokenizer(generated_text, return_tensors=\"pt\")\n",
        "      outputs = model(**inputs)\n",
        "      # !!!!!!!!!!!!! Your code starts here !!!!!!!!!!!!!\n",
        "\n",
        "      next_token_logits_probs = softmax(outputs.logits[0, -1, :])\n",
        "      sorted_next_token_logits_probs, idx = torch.sort(next_token_logits_probs, descending=True)\n",
        "\n",
        "      nucleus = sorted_next_token_logits_probs.cumsum(dim=0) < p\n",
        "      nucleus[(~nucleus).nonzero()[0].item()] = True\n",
        "      nucleus_probs = sorted_next_token_logits_probs[nucleus]\n",
        "\n",
        "      next_index = torch.multinomial(nucleus_probs, num_samples=1)\n",
        "      next_token_index = idx[next_index].item()\n",
        "\n",
        "      # !!!!!!!!!!!!! Your code ends here !!!!!!!!!!!!! \n",
        "      generated_text = tokenizer.decode(\n",
        "          torch.cat((inputs['input_ids'][0],torch.tensor([next_token_index]))) # generated_text = generated_text + new_token\n",
        "      )\n",
        "  \n",
        "  return generated_text\n",
        "\n",
        "\n",
        "torch.manual_seed(314159)\n",
        "input_text = \"Hello, my name is John Smith. I am the\"\n",
        "\n",
        "print(f'Generated: {generate_gpt_text_nucleus_sampling(input_text)}')"
      ],
      "metadata": {
        "id": "Wr-Y_enP-Tjh",
        "colab": {
          "base_uri": "https://localhost:8080/"
        },
        "outputId": "8d7765c5-7c24-4719-b418-2ee01695796c"
      },
      "execution_count": 41,
      "outputs": [
        {
          "output_type": "stream",
          "name": "stderr",
          "text": [
            "100%|██████████| 25/25 [00:04<00:00,  5.00it/s]"
          ]
        },
        {
          "output_type": "stream",
          "name": "stdout",
          "text": [
            "Generated: hello, my name is john smith. i am the physician in charge of the civil rights movement in central africa. i am here to oversee the restoration of your citizens'lives on\n"
          ]
        },
        {
          "output_type": "stream",
          "name": "stderr",
          "text": [
            "\n"
          ]
        }
      ]
    },
    {
      "cell_type": "code",
      "source": [
        "inputs = tokenizer(\"Hello, my name is John Smith. I am the\", return_tensors=\"pt\")\n",
        "torch.cat((inputs['input_ids'][0],torch.tensor([1000])))"
      ],
      "metadata": {
        "id": "O0TOgPOdM18G",
        "colab": {
          "base_uri": "https://localhost:8080/"
        },
        "outputId": "737d8a90-0a95-46de-d5aa-f280bd40e66c"
      },
      "execution_count": 42,
      "outputs": [
        {
          "output_type": "execute_result",
          "data": {
            "text/plain": [
              "tensor([3570,  240,  547, 1362,  544, 2476, 4920,  239,  249, 1048,  481, 1000])"
            ]
          },
          "metadata": {},
          "execution_count": 42
        }
      ]
    },
    {
      "cell_type": "code",
      "source": [
        "inputs['input_ids']"
      ],
      "metadata": {
        "id": "UEqkl297NLWr",
        "colab": {
          "base_uri": "https://localhost:8080/"
        },
        "outputId": "6779d185-ecd2-4b8b-d2e8-867433d756fe"
      },
      "execution_count": 43,
      "outputs": [
        {
          "output_type": "execute_result",
          "data": {
            "text/plain": [
              "tensor([[3570,  240,  547, 1362,  544, 2476, 4920,  239,  249, 1048,  481]])"
            ]
          },
          "metadata": {},
          "execution_count": 43
        }
      ]
    },
    {
      "cell_type": "markdown",
      "source": [
        "### 2.2: Masked language models\n",
        "A masked language model provides the probability of a token given the tokens before it and after it (fill in the blanks)\n",
        "\n",
        "$P(token_T|token_1,...,token_{T-1},token_{T+1},...,token_{N})$\n",
        "\n",
        "It is useful for a variety of NLP tasking including sequence classification and grammar correction\n",
        "\n",
        "Example: Hello, my name is ...\n",
        "\n",
        "Output: Hello, my name is HAL"
      ],
      "metadata": {
        "id": "MPXE9k84pDPw"
      }
    },
    {
      "cell_type": "code",
      "source": [
        "from transformers import BertTokenizer, BertForMaskedLM\n",
        "\n",
        "import torch\n",
        "\n",
        "tokenizer = BertTokenizer.from_pretrained(\"bert-base-uncased\")\n",
        "model = BertForMaskedLM.from_pretrained(\"bert-base-uncased\")"
      ],
      "metadata": {
        "id": "BWbeuI_lpId6",
        "colab": {
          "base_uri": "https://localhost:8080/",
          "height": 217,
          "referenced_widgets": [
            "96a01a1f16c440c1b074b6175a7353de",
            "c49cfe5bf1f44d28a3fcb06222957fef",
            "d25d038c695e4f41a406659d1ef832fd",
            "f970840059e243f798806c3a42724d01",
            "79bc44120eb048e9a1f0e8d833c716d3",
            "3836e22807924bbbbd15bc9a18318943",
            "ffdb4f1185b942c68677c611b8ce6440",
            "12233849df0a42d09ebf1e2c4bc7941c",
            "063b779d1883497f8bf5593759d56c6d",
            "ef96689f3d0e41dd9d2267c77f4f557b",
            "887dbf45f2d04e0c92e1adf3fac10cf7",
            "e5b9559883564c38acac051296fa26fd",
            "8cec056f0e984926ad955f0960af302a",
            "d1938502edab4f298883acb12837aa8d",
            "d3d8cbe702b64706977505c11a0f0c75",
            "6c2717c23cad4c2aa4d7ef18d899dcbd",
            "6d14a9b4697949ec950c483d504b3c02",
            "5abba538e9c548efb6856d92fab908af",
            "3ebc5dceeb6b425b97b94887ad1bfbf6",
            "05b71da4fddf4f9e8e407811908b26ed",
            "a4ba0063634d41eaa268d2f74d7844f0",
            "2b3c1134ebf340e891f481c2b65b2644",
            "440a1754e9534872b3e8e254c26bbe0b",
            "a01c3b2abae24870a42e558fbaf5eee7",
            "e87e631758e5470aa3925c0b225e2607",
            "807e95650cd149a49813f9f442fa4a9d",
            "d7761ce5e3cb4f3cb12b84a2ecc1f8ea",
            "c8119ecbdce640e091869ff4cd34551c",
            "89cb673069ae442aac70caaed8bdbd5a",
            "7ee52fbfa566479c94424a46bf37bec7",
            "57378f1a4a7b4b9092a4f177c05f6f60",
            "61dec53e4d6547ffb36627286327a7c0",
            "5a7b5a92bb6b4d6e9c99f3082b83ca09",
            "49131379d2e34760b3ddfefec28b9b14",
            "bcff87d9607144fb895cf4504e650f3f",
            "48159e9e30db44d0b6b4e7e66bd97a8b",
            "3c17fb4721e341628c6c4062d4e8210e",
            "450dda987a71400da867b5cb28187290",
            "4fefc13c216247e3b1c60fa35688b055",
            "0179ac7510564bc589040353abfd3e27",
            "86ec388d13d54a1793366a34f76359bf",
            "5fe4ec15a09d47b8ad6ef06853c9e4dc",
            "cd19071187114f85999cb81337fdcb94",
            "42643ff72d3047d7afd61a63f1234a06"
          ]
        },
        "outputId": "e37993b6-30a2-4c15-b068-d78d287fdc13"
      },
      "execution_count": 11,
      "outputs": [
        {
          "output_type": "display_data",
          "data": {
            "text/plain": [
              "Downloading:   0%|          | 0.00/232k [00:00<?, ?B/s]"
            ],
            "application/vnd.jupyter.widget-view+json": {
              "version_major": 2,
              "version_minor": 0,
              "model_id": "96a01a1f16c440c1b074b6175a7353de"
            }
          },
          "metadata": {}
        },
        {
          "output_type": "display_data",
          "data": {
            "text/plain": [
              "Downloading:   0%|          | 0.00/28.0 [00:00<?, ?B/s]"
            ],
            "application/vnd.jupyter.widget-view+json": {
              "version_major": 2,
              "version_minor": 0,
              "model_id": "e5b9559883564c38acac051296fa26fd"
            }
          },
          "metadata": {}
        },
        {
          "output_type": "display_data",
          "data": {
            "text/plain": [
              "Downloading:   0%|          | 0.00/570 [00:00<?, ?B/s]"
            ],
            "application/vnd.jupyter.widget-view+json": {
              "version_major": 2,
              "version_minor": 0,
              "model_id": "440a1754e9534872b3e8e254c26bbe0b"
            }
          },
          "metadata": {}
        },
        {
          "output_type": "display_data",
          "data": {
            "text/plain": [
              "Downloading:   0%|          | 0.00/440M [00:00<?, ?B/s]"
            ],
            "application/vnd.jupyter.widget-view+json": {
              "version_major": 2,
              "version_minor": 0,
              "model_id": "49131379d2e34760b3ddfefec28b9b14"
            }
          },
          "metadata": {}
        },
        {
          "output_type": "stream",
          "name": "stderr",
          "text": [
            "Some weights of the model checkpoint at bert-base-uncased were not used when initializing BertForMaskedLM: ['cls.seq_relationship.weight', 'cls.seq_relationship.bias']\n",
            "- This IS expected if you are initializing BertForMaskedLM from the checkpoint of a model trained on another task or with another architecture (e.g. initializing a BertForSequenceClassification model from a BertForPreTraining model).\n",
            "- This IS NOT expected if you are initializing BertForMaskedLM from the checkpoint of a model that you expect to be exactly identical (initializing a BertForSequenceClassification model from a BertForSequenceClassification model).\n"
          ]
        }
      ]
    },
    {
      "cell_type": "code",
      "source": [
        "example_text = \"The capital of Alberta is [MASK].\"\n",
        "\n",
        "def predict_mask(input_text):\n",
        "\n",
        "  with torch.no_grad():\n",
        "    inputs = tokenizer(input_text, return_tensors=\"pt\")\n",
        "    logits = model(**inputs).logits\n",
        "    mask_token_index = (inputs.input_ids == tokenizer.mask_token_id)[0].nonzero(as_tuple=True)[0]\n",
        "    predicted_token_id = logits[0, mask_token_index].argmax(axis=-1)\n",
        "  return tokenizer.decode(predicted_token_id)\n",
        "\n",
        "print('Input: ',example_text)\n",
        "print('Mask prediction: ',predict_mask(example_text))"
      ],
      "metadata": {
        "id": "TEZX8ibCpKkc",
        "colab": {
          "base_uri": "https://localhost:8080/"
        },
        "outputId": "e8db08ee-4a37-440a-c28e-878480f3d699"
      },
      "execution_count": 12,
      "outputs": [
        {
          "output_type": "stream",
          "name": "stdout",
          "text": [
            "Input:  The capital of Alberta is [MASK].\n",
            "Mask prediction:  edmonton\n"
          ]
        }
      ]
    },
    {
      "cell_type": "markdown",
      "source": [
        "**Question:** d) Use the `predict_mask` function and the `[MASK]` token to exract a fact from the language model(similar to the example above). Include your input and the model's prediction in your pdf report"
      ],
      "metadata": {
        "id": "rnxbATf3rhQa"
      }
    },
    {
      "cell_type": "code",
      "source": [
        "your_prompt = \"The temperature in winter is [MASK].\"\n",
        "\n",
        "print('Input: ',your_prompt)\n",
        "print('Mask prediction: ',predict_mask(your_prompt))"
      ],
      "metadata": {
        "id": "CYdADAH_zKtq",
        "colab": {
          "base_uri": "https://localhost:8080/"
        },
        "outputId": "72b4ac8b-4ea3-42a3-9d37-cacfb2224d03"
      },
      "execution_count": 21,
      "outputs": [
        {
          "output_type": "stream",
          "name": "stdout",
          "text": [
            "Input:  The temperature in winter is [MASK].\n",
            "Mask prediction:  freezing\n"
          ]
        }
      ]
    },
    {
      "cell_type": "markdown",
      "source": [
        "### 2.3: Sequence to sequence models\n",
        "A sequence to sequence models provides the probability of a token given the tokens before it and all tokens in another related sequence\n",
        "\n",
        "It is useful for a variety of NLP tasking including translation and summarization (primarily used for text generation)\n",
        "\n",
        "Example: Bonjour, je m'appelle HAL (French)\n",
        "\n",
        "Output: Hello, my name is HAL (English)"
      ],
      "metadata": {
        "id": "F1gABSXQr6hn"
      }
    },
    {
      "cell_type": "code",
      "source": [
        "from transformers import T5Tokenizer, T5ForConditionalGeneration\n",
        "from tqdm import tqdm\n",
        "\n",
        "tokenizer = T5Tokenizer.from_pretrained(\"t5-small\")\n",
        "model = T5ForConditionalGeneration.from_pretrained(\"t5-small\")\n"
      ],
      "metadata": {
        "id": "M7cgFkVwzTXy",
        "colab": {
          "base_uri": "https://localhost:8080/",
          "height": 237,
          "referenced_widgets": [
            "17974aa739e9477388fea30304b232b9",
            "6ea830887ec74a3697757df9e5332cb9",
            "543e65fd25b9467f88718e5a126b324d",
            "ee33d45f8f314fb5b9f8280e8d1910af",
            "76d59cf07d1444bc8c824326b5cadf91",
            "068a0b7d558c4a3897522bf346722b70",
            "92765a2bd7b64288bb689d6ba922659e",
            "0fbb5d70fc5c431e8fee27b74232260a",
            "5ba51d620e5b400196bcbeb3c216650a",
            "47df013d23f44d6bbfee2f37e4b3c93e",
            "dcaef7ba2c224e9ab9767f8e729d342c",
            "6ae99ec87868426a9f5f41a699c00af2",
            "31f47c47647544f09af3f665f11fd37d",
            "6554935a79134d25a55204b7e40ddf6c",
            "b6e15eb34846421f9c25edf1d341c0d7",
            "6db7463782bf49b8b23a6879c5d5a107",
            "8a403fd0a6dd4ee0b98fc479fb6c2733",
            "438aaa3325be456392ec9f6bddff571b",
            "d173c40df3514d9bb8ae3740d74b8e61",
            "c93e9037894741429ba7d1c89ba8d7d6",
            "89443c579e454e949353c38efb4ab37e",
            "75bd16502ff1432293f3a96eb66b717e",
            "71249937d8374437baf81c66e9edd489",
            "0d4306ffbebf44dba12cf27361344871",
            "b14c57e315034c9d9ca1e8e81aecd71e",
            "e9ca6960e489462c895bc3da5470b191",
            "e7e2f06f89154577bdc571fc64f3096c",
            "8f95725f4d1849e3bfbee1a5651c4bc8",
            "382495887f4b46db8d9132319c7f6574",
            "46fa3fe17e52485cb6a92de527eeb76a",
            "498c8413b3b8479fb1d3e5340a8042a0",
            "03dcd63451fa436cb919775633c379a5",
            "5306b455b8ef456f9d1df8793954612f"
          ]
        },
        "outputId": "9cd478e4-b2d5-46d4-bfd1-3739caa79c2a"
      },
      "execution_count": 22,
      "outputs": [
        {
          "output_type": "display_data",
          "data": {
            "text/plain": [
              "Downloading:   0%|          | 0.00/792k [00:00<?, ?B/s]"
            ],
            "application/vnd.jupyter.widget-view+json": {
              "version_major": 2,
              "version_minor": 0,
              "model_id": "17974aa739e9477388fea30304b232b9"
            }
          },
          "metadata": {}
        },
        {
          "output_type": "display_data",
          "data": {
            "text/plain": [
              "Downloading:   0%|          | 0.00/1.20k [00:00<?, ?B/s]"
            ],
            "application/vnd.jupyter.widget-view+json": {
              "version_major": 2,
              "version_minor": 0,
              "model_id": "6ae99ec87868426a9f5f41a699c00af2"
            }
          },
          "metadata": {}
        },
        {
          "output_type": "stream",
          "name": "stderr",
          "text": [
            "/usr/local/lib/python3.8/dist-packages/transformers/models/t5/tokenization_t5.py:164: FutureWarning: This tokenizer was incorrectly instantiated with a model max length of 512 which will be corrected in Transformers v5.\n",
            "For now, this behavior is kept to avoid breaking backwards compatibility when padding/encoding with `truncation is True`.\n",
            "- Be aware that you SHOULD NOT rely on t5-small automatically truncating your input to 512 when padding/encoding.\n",
            "- If you want to encode/pad to sequences longer than 512 you can either instantiate this tokenizer with `model_max_length` or pass `max_length` when encoding/padding.\n",
            "- To avoid this warning, please instantiate this tokenizer with `model_max_length` set to your preferred value.\n",
            "  warnings.warn(\n"
          ]
        },
        {
          "output_type": "display_data",
          "data": {
            "text/plain": [
              "Downloading:   0%|          | 0.00/242M [00:00<?, ?B/s]"
            ],
            "application/vnd.jupyter.widget-view+json": {
              "version_major": 2,
              "version_minor": 0,
              "model_id": "71249937d8374437baf81c66e9edd489"
            }
          },
          "metadata": {}
        }
      ]
    },
    {
      "cell_type": "code",
      "source": [
        "def t5_summarize(text, max_length=20):\n",
        "  # inference\n",
        "  input_ids = tokenizer(\n",
        "      f\"summarize: {text}\", return_tensors=\"pt\"\n",
        "  ).input_ids\n",
        "  outputs = model.generate(\n",
        "      input_ids,\n",
        "      max_length=max_length,\n",
        "  )\n",
        "  return tokenizer.decode(outputs[0], skip_special_tokens=True)\n",
        "# The Road Not Taken\n",
        "# Poem by Robert Frost (1916)\n",
        "# (Public Domain)\n",
        "poem = \"\"\"Two roads diverged in a yellow wood,\n",
        "And sorry I could not travel both\n",
        "And be one traveler, long I stood\n",
        "And looked down one as far as I could\n",
        "To where it bent in the undergrowth;\n",
        "\n",
        "Then took the other, as just as fair,\n",
        "And having perhaps the better claim,\n",
        "Because it was grassy and wanted wear;\n",
        "Though as for that the passing there\n",
        "Had worn them really about the same,\n",
        "\n",
        "And both that morning equally lay\n",
        "In leaves no step had trodden black.\n",
        "Oh, I kept the first for another day!\n",
        "Yet knowing how way leads on to way,\n",
        "I doubted if I should ever come back.\n",
        "\n",
        "I shall be telling this with a sigh\n",
        "Somewhere ages and ages hence:\n",
        "Two roads diverged in a wood, and I—\n",
        "I took the one less traveled by,\n",
        "And that has made all the difference.\"\"\"\n",
        "\n",
        "print('Summary: ',t5_summarize(poem))"
      ],
      "metadata": {
        "id": "DDohl2s1t1CH",
        "colab": {
          "base_uri": "https://localhost:8080/"
        },
        "outputId": "57a5ed54-c682-4061-8854-5bd7bfcb5e61"
      },
      "execution_count": 23,
      "outputs": [
        {
          "output_type": "stream",
          "name": "stdout",
          "text": [
            "Summary:  two roads diverged in a yellow wood, and I took the one less traveled by\n"
          ]
        }
      ]
    },
    {
      "cell_type": "markdown",
      "source": [
        "The metaphors are lost on the model, but it still does a fairly good job summarizing the literal meaning of the poem"
      ],
      "metadata": {
        "id": "FoZUvx_T3Ibw"
      }
    },
    {
      "cell_type": "markdown",
      "source": [
        "**Question:** e)\n",
        "\n",
        "i) Find a short piece of text (article, poem, section of a paper) and get the model to summarize it. Include the summary in your report"
      ],
      "metadata": {
        "id": "tlwv2vxo3RUG"
      }
    },
    {
      "cell_type": "code",
      "source": [
        "short_text = \"For example, consider factory workers at several different locations who are monitored to count the number of errors that occur. If one location is monitored much more stringently or frequently, there will be more errors observed for that group. This can also lead to a feedback loop wherein the group is subject to further monitoring because of the apparent higher rate of mistakes\"\n",
        "\n",
        "print('Summary: ',t5_summarize(short_text,max_length=34)) # You can change `max_length` if summary seems truncated"
      ],
      "metadata": {
        "id": "Lgt5aKf80JpC",
        "colab": {
          "base_uri": "https://localhost:8080/"
        },
        "outputId": "492882ff-1ace-4501-936a-210c70204203"
      },
      "execution_count": 33,
      "outputs": [
        {
          "output_type": "stream",
          "name": "stdout",
          "text": [
            "Summary:  factory workers at several different locations are monitored to count errors. if one location is monitored more stringently or frequently, there will be more errors.\n"
          ]
        }
      ]
    },
    {
      "cell_type": "markdown",
      "source": [
        "ii) Is the summary accurate? If yes, explain why the summary is accurate? If not, explain how the summary could be improved"
      ],
      "metadata": {
        "id": "r3TRScA81IWt"
      }
    },
    {
      "cell_type": "markdown",
      "source": [
        "Answer - It somehow has summarized the gicen text. But the words are exactly copied from the text, and the max_length argument only cuts the sentence and doesn't enforce the model to summarize more.\n",
        "\n",
        "I think it could be improved if some words or phrases could be substituted with shorter paraphrases, and mabe even the structure of the sentence could be changed. It might be a good idea to extact the most important words and try to make a sentence that makes sense."
      ],
      "metadata": {
        "id": "hthRTDmlXWVn"
      }
    },
    {
      "cell_type": "code",
      "source": [],
      "metadata": {
        "id": "2iMBkSSOZ0eX"
      },
      "execution_count": null,
      "outputs": []
    }
  ]
}